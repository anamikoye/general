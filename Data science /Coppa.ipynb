{
 "cells": [
  {
   "cell_type": "markdown",
   "metadata": {},
   "source": [
    "## Cohen Kappa Calculation\n",
    "\n",
    "\n",
    "<h2>Task: </h2>\n",
    "<p>This notebook details the manual implementation of Cohen’s k as described in Part 2 of http://courses.ischool.berkeley.edu/i290-dds/s17/hw/hw1.pdf </p>\n"
   ]
  },
  {
   "cell_type": "code",
   "execution_count": 218,
   "metadata": {
    "collapsed": false,
    "scrolled": true
   },
   "outputs": [
    {
     "data": {
      "text/html": [
       "<div>\n",
       "<table border=\"1\" class=\"dataframe\">\n",
       "  <thead>\n",
       "    <tr style=\"text-align: right;\">\n",
       "      <th></th>\n",
       "      <th>0</th>\n",
       "      <th>1</th>\n",
       "      <th>2</th>\n",
       "    </tr>\n",
       "  </thead>\n",
       "  <tbody>\n",
       "    <tr>\n",
       "      <th>0</th>\n",
       "      <td>item:0</td>\n",
       "      <td>annotator:0</td>\n",
       "      <td>label:1</td>\n",
       "    </tr>\n",
       "    <tr>\n",
       "      <th>1</th>\n",
       "      <td>item:0</td>\n",
       "      <td>annotator:1</td>\n",
       "      <td>label:1</td>\n",
       "    </tr>\n",
       "    <tr>\n",
       "      <th>2</th>\n",
       "      <td>item:1</td>\n",
       "      <td>annotator:0</td>\n",
       "      <td>label:2</td>\n",
       "    </tr>\n",
       "    <tr>\n",
       "      <th>3</th>\n",
       "      <td>item:1</td>\n",
       "      <td>annotator:1</td>\n",
       "      <td>label:2</td>\n",
       "    </tr>\n",
       "    <tr>\n",
       "      <th>4</th>\n",
       "      <td>item:2</td>\n",
       "      <td>annotator:0</td>\n",
       "      <td>label:1</td>\n",
       "    </tr>\n",
       "  </tbody>\n",
       "</table>\n",
       "</div>"
      ],
      "text/plain": [
       "        0            1        2\n",
       "0  item:0  annotator:0  label:1\n",
       "1  item:0  annotator:1  label:1\n",
       "2  item:1  annotator:0  label:2\n",
       "3  item:1  annotator:1  label:2\n",
       "4  item:2  annotator:0  label:1"
      ]
     },
     "execution_count": 218,
     "metadata": {},
     "output_type": "execute_result"
    }
   ],
   "source": [
    "#Importatios\n",
    "import pandas as pd\n",
    "import numpy as np\n",
    "\n",
    "#import the data\n",
    "datafile = 'hw1.part1.1.txt'\n",
    "data = pd.read_csv(datafile,delimiter='\\t',header=None) \n",
    "data.head()"
   ]
  },
  {
   "cell_type": "code",
   "execution_count": 219,
   "metadata": {
    "collapsed": false
   },
   "outputs": [
    {
     "data": {
      "text/html": [
       "<div>\n",
       "<table border=\"1\" class=\"dataframe\">\n",
       "  <thead>\n",
       "    <tr style=\"text-align: right;\">\n",
       "      <th></th>\n",
       "      <th>0</th>\n",
       "      <th>1</th>\n",
       "      <th>2</th>\n",
       "    </tr>\n",
       "  </thead>\n",
       "  <tbody>\n",
       "    <tr>\n",
       "      <th>0</th>\n",
       "      <td>0</td>\n",
       "      <td>0</td>\n",
       "      <td>1</td>\n",
       "    </tr>\n",
       "    <tr>\n",
       "      <th>1</th>\n",
       "      <td>0</td>\n",
       "      <td>1</td>\n",
       "      <td>1</td>\n",
       "    </tr>\n",
       "    <tr>\n",
       "      <th>2</th>\n",
       "      <td>1</td>\n",
       "      <td>0</td>\n",
       "      <td>2</td>\n",
       "    </tr>\n",
       "    <tr>\n",
       "      <th>3</th>\n",
       "      <td>1</td>\n",
       "      <td>1</td>\n",
       "      <td>2</td>\n",
       "    </tr>\n",
       "    <tr>\n",
       "      <th>4</th>\n",
       "      <td>2</td>\n",
       "      <td>0</td>\n",
       "      <td>1</td>\n",
       "    </tr>\n",
       "  </tbody>\n",
       "</table>\n",
       "</div>"
      ],
      "text/plain": [
       "   0  1  2\n",
       "0  0  0  1\n",
       "1  0  1  1\n",
       "2  1  0  2\n",
       "3  1  1  2\n",
       "4  2  0  1"
      ]
     },
     "execution_count": 219,
     "metadata": {},
     "output_type": "execute_result"
    }
   ],
   "source": [
    "#Strip out the string to leave the numerical data\n",
    "data[0] = data[0].apply(lambda x: int(x[5:]))\n",
    "data[1] = data[1].apply(lambda x: int(x[10:]))\n",
    "data[2] = data[2].apply(lambda x: int(x[6:]))\n",
    "data.head()"
   ]
  },
  {
   "cell_type": "code",
   "execution_count": 220,
   "metadata": {
    "collapsed": false
   },
   "outputs": [
    {
     "name": "stdout",
     "output_type": "stream",
     "text": [
      "Number of items:  100\n",
      "Number of Annotators:  2  specifically:  [0 1]\n",
      "Number of Labels 3  specifically:  [1 2 0]\n"
     ]
    }
   ],
   "source": [
    "#Confirm How many unique items, annotators and labels we have\n",
    "\n",
    "print('Number of items: ',len(data[0].unique())) #Number of items\n",
    "print('Number of Annotators: ', len(data[1].unique()),' specifically: ',data[1].unique()) #Number of Annotators\n",
    "print('Number of Labels',len(data[2].unique()),' specifically: ',data[2].unique()) #Number of Labels"
   ]
  },
  {
   "cell_type": "code",
   "execution_count": 221,
   "metadata": {
    "collapsed": false
   },
   "outputs": [
    {
     "name": "stdout",
     "output_type": "stream",
     "text": [
      "Annotator 0 marked the following items labelled 0 by  label:0 , label:1 and label:2 respectively\n",
      " 29 44 27  adding up to 100\n"
     ]
    }
   ],
   "source": [
    "#Filter based on annotator 0. Recall that data[0]=item ,data[1]=annotator,  data[2]=label\n",
    "#The section 'np.where(((data[1] ==1) & (data[2] == 0)))[0]' returns the indexes that satisfy that criteria.\n",
    "#We include data[0] so that it returns the item number instead of the index. \n",
    "\n",
    "#all the items that annotator 0 gave a label of 0\n",
    "annotator_0_label_0_items = data[0][np.where(((data[1] ==0) & (data[2] == 0)))[0]] \n",
    "\n",
    "#all the items that annotator 0 gave a label of 1\n",
    "annotator_0_label_1_items = data[0][np.where(((data[1] ==0) & (data[2] == 1)))[0]] \n",
    "\n",
    "#all the items that annotator 0 gave a label of 2\n",
    "annotator_0_label_2_items = data[0][np.where(((data[1] ==0) & (data[2] == 2)))[0]]\n",
    "\n",
    "#print out totals\n",
    "print('Annotator 0 marked the following items labelled 0 by  label:0 , label:1 and label:2 respectively\\n',\n",
    "      len(annotator_0_label_0_items),len(annotator_0_label_1_items),len(annotator_0_label_2_items),' adding up to',\n",
    "     sum([len(annotator_0_label_0_items),len(annotator_0_label_1_items),len(annotator_0_label_2_items)]))\n",
    "\n"
   ]
  },
  {
   "cell_type": "code",
   "execution_count": 222,
   "metadata": {
    "collapsed": false
   },
   "outputs": [
    {
     "name": "stdout",
     "output_type": "stream",
     "text": [
      "Annotator 1 marked the following items with label:0 , label:1 and label:2 respectively\n",
      " 29 40 31 adding up to 100\n"
     ]
    }
   ],
   "source": [
    "#Similarily for annotator 1\n",
    "\n",
    "#all the items that annotator 1 gave a label of 0. \n",
    "annotator_1_label_0_items = data[0][np.where(((data[1] ==1) & (data[2] == 0)))[0]] \n",
    "\n",
    "#all the items that annotator 1 gave a label of 1\n",
    "annotator_1_label_1_items = data[0][np.where(((data[1] ==1) & (data[2] == 1)))[0]] \n",
    "\n",
    "#all the items that annotator 1 gave a label of 2\n",
    "annotator_1_label_2_items = data[0][np.where(((data[1] ==1) & (data[2] == 2)))[0]]\n",
    "\n",
    "#print out sample items in annotator_0_label_0_items\n",
    "print('Annotator 1 marked the following items with label:0 , label:1 and label:2 respectively\\n',\n",
    "      len(annotator_1_label_0_items),len(annotator_1_label_1_items),len(annotator_1_label_2_items),'adding up to',\n",
    "      sum([len(annotator_1_label_0_items),len(annotator_1_label_1_items),len(annotator_1_label_2_items)]))\n"
   ]
  },
  {
   "cell_type": "code",
   "execution_count": 223,
   "metadata": {
    "collapsed": false
   },
   "outputs": [
    {
     "data": {
      "text/html": [
       "<div>\n",
       "<table border=\"1\" class=\"dataframe\">\n",
       "  <thead>\n",
       "    <tr style=\"text-align: right;\">\n",
       "      <th></th>\n",
       "      <th>A0_L0</th>\n",
       "      <th>A0_L1</th>\n",
       "      <th>A0_L2</th>\n",
       "    </tr>\n",
       "  </thead>\n",
       "  <tbody>\n",
       "    <tr>\n",
       "      <th>A1_L0</th>\n",
       "      <td>10</td>\n",
       "      <td>11</td>\n",
       "      <td>8</td>\n",
       "    </tr>\n",
       "    <tr>\n",
       "      <th>A1_L1</th>\n",
       "      <td>11</td>\n",
       "      <td>24</td>\n",
       "      <td>5</td>\n",
       "    </tr>\n",
       "    <tr>\n",
       "      <th>A1_L2</th>\n",
       "      <td>8</td>\n",
       "      <td>9</td>\n",
       "      <td>14</td>\n",
       "    </tr>\n",
       "  </tbody>\n",
       "</table>\n",
       "</div>"
      ],
      "text/plain": [
       "       A0_L0  A0_L1  A0_L2\n",
       "A1_L0     10     11      8\n",
       "A1_L1     11     24      5\n",
       "A1_L2      8      9     14"
      ]
     },
     "execution_count": 223,
     "metadata": {},
     "output_type": "execute_result"
    }
   ],
   "source": [
    "#Confusion Matrix Values\n",
    "\n",
    "#Where they both agreed\n",
    "A0L0_A1L0 = len(set(annotator_0_label_0_items)&set(annotator_1_label_0_items))\n",
    "A0L1_A1L1 = len(set(annotator_0_label_1_items)&set(annotator_1_label_1_items))\n",
    "A0L2_A1L2 = len(set(annotator_0_label_2_items)&set(annotator_1_label_2_items))\n",
    "\n",
    "#Where the 1st annotator gave 0 but the 2nd annotator gave something different\n",
    "A0L0_A1L1 = len(set(annotator_0_label_0_items)&set(annotator_1_label_1_items))\n",
    "A0L0_A1L2 = len(set(annotator_0_label_0_items)&set(annotator_1_label_2_items))\n",
    "\n",
    "#Where the 1st annotator gave 1 but the 2nd annotator gave something different\n",
    "A0L1_A1L0 = len(set(annotator_0_label_1_items)&set(annotator_1_label_0_items))\n",
    "A0L1_A1L2 = len(set(annotator_0_label_1_items)&set(annotator_1_label_2_items))\n",
    "\n",
    "#Where the 1st annotator gave 2 but the 2nd annotator gave something different\n",
    "A0L2_A1L0 = len(set(annotator_0_label_2_items)&set(annotator_1_label_0_items))\n",
    "A0L2_A1L1 = len(set(annotator_0_label_2_items)&set(annotator_1_label_1_items))\n",
    "\n",
    "#Create a data frame to visualize\n",
    "\n",
    "confusion_matrix = pd.DataFrame({\n",
    "        'A0_L0' : pd.Series([A0L0_A1L0, A0L0_A1L1, A0L0_A1L2], index=['A1_L0', 'A1_L1', 'A1_L2']),\n",
    "        'A0_L1' : pd.Series([A0L1_A1L0, A0L1_A1L1, A0L1_A1L2], index=['A1_L0', 'A1_L1', 'A1_L2']),\n",
    "        'A0_L2' : pd.Series([A0L2_A1L0, A0L2_A1L1, A0L2_A1L2], index=['A1_L0', 'A1_L1', 'A1_L2'])\n",
    "\n",
    "    })\n",
    "\n",
    "confusion_matrix"
   ]
  },
  {
   "cell_type": "code",
   "execution_count": 224,
   "metadata": {
    "collapsed": false
   },
   "outputs": [
    {
     "data": {
      "text/plain": [
       "0.47999999999999998"
      ]
     },
     "execution_count": 224,
     "metadata": {},
     "output_type": "execute_result"
    }
   ],
   "source": [
    "#calculate sum of all elements in the matrix\n",
    "total = sum(sum(confusion_matrix.values))\n",
    "\n",
    "#Calculate Observed agreement Po\n",
    "diagonal_arr = pd.Series(np.diag(confusion_matrix), index=[confusion_matrix.index, confusion_matrix.columns])\n",
    "Po = sum(diagonal_arr) /total\n",
    "\n",
    "Po\n"
   ]
  },
  {
   "cell_type": "code",
   "execution_count": 225,
   "metadata": {
    "collapsed": false
   },
   "outputs": [
    {
     "data": {
      "text/html": [
       "<div>\n",
       "<table border=\"1\" class=\"dataframe\">\n",
       "  <thead>\n",
       "    <tr style=\"text-align: right;\">\n",
       "      <th></th>\n",
       "      <th>A0_L0</th>\n",
       "      <th>A0_L1</th>\n",
       "      <th>A0_L2</th>\n",
       "      <th>totals_by_rows</th>\n",
       "      <th>prob_by_row</th>\n",
       "    </tr>\n",
       "  </thead>\n",
       "  <tbody>\n",
       "    <tr>\n",
       "      <th>A1_L0</th>\n",
       "      <td>10.00</td>\n",
       "      <td>11.00</td>\n",
       "      <td>8.00</td>\n",
       "      <td>29.0</td>\n",
       "      <td>0.29</td>\n",
       "    </tr>\n",
       "    <tr>\n",
       "      <th>A1_L1</th>\n",
       "      <td>11.00</td>\n",
       "      <td>24.00</td>\n",
       "      <td>5.00</td>\n",
       "      <td>40.0</td>\n",
       "      <td>0.40</td>\n",
       "    </tr>\n",
       "    <tr>\n",
       "      <th>A1_L2</th>\n",
       "      <td>8.00</td>\n",
       "      <td>9.00</td>\n",
       "      <td>14.00</td>\n",
       "      <td>31.0</td>\n",
       "      <td>0.31</td>\n",
       "    </tr>\n",
       "    <tr>\n",
       "      <th>totals_by_column</th>\n",
       "      <td>29.00</td>\n",
       "      <td>44.00</td>\n",
       "      <td>27.00</td>\n",
       "      <td>100.0</td>\n",
       "      <td>1.00</td>\n",
       "    </tr>\n",
       "    <tr>\n",
       "      <th>prob_by_column</th>\n",
       "      <td>0.29</td>\n",
       "      <td>0.44</td>\n",
       "      <td>0.27</td>\n",
       "      <td>1.0</td>\n",
       "      <td>NaN</td>\n",
       "    </tr>\n",
       "  </tbody>\n",
       "</table>\n",
       "</div>"
      ],
      "text/plain": [
       "                  A0_L0  A0_L1  A0_L2  totals_by_rows  prob_by_row\n",
       "A1_L0             10.00  11.00   8.00            29.0         0.29\n",
       "A1_L1             11.00  24.00   5.00            40.0         0.40\n",
       "A1_L2              8.00   9.00  14.00            31.0         0.31\n",
       "totals_by_column  29.00  44.00  27.00           100.0         1.00\n",
       "prob_by_column     0.29   0.44   0.27             1.0          NaN"
      ]
     },
     "execution_count": 225,
     "metadata": {},
     "output_type": "execute_result"
    }
   ],
   "source": [
    "'''\n",
    "To calculate Pe, I add 2 extra rows and columns to reflect totals and probabilies\n",
    "\n",
    "'''\n",
    "#Calculate totals  by row \n",
    "confusion_matrix['totals_by_rows'] =confusion_matrix.sum(axis=1)\n",
    "\n",
    "#Calculate totals  by column and add extra row\n",
    "col_sum = pd.Series(confusion_matrix.sum(numeric_only=True,axis=0),name = 'totals_by_column')\n",
    "confusion_matrix = confusion_matrix.append(col_sum)\n",
    "\n",
    "#Add extra column reflecting the probabilities of annotator 1\n",
    "confusion_matrix['prob_by_row'] = confusion_matrix['totals_by_rows']/ total\n",
    "\n",
    "#add extra row reflecting  probabilites  of annotator 0 \n",
    "probs = confusion_matrix.loc['totals_by_column',][:-1]/100 #Ignore the last element\n",
    "col_prob = pd.Series(probs,name = 'prob_by_column')\n",
    "confusion_matrix = confusion_matrix.append(col_prob)\n",
    "\n",
    "confusion_matrix\n"
   ]
  },
  {
   "cell_type": "code",
   "execution_count": 226,
   "metadata": {
    "collapsed": false
   },
   "outputs": [
    {
     "data": {
      "text/plain": [
       "0.34379999999999999"
      ]
     },
     "execution_count": 226,
     "metadata": {},
     "output_type": "execute_result"
    }
   ],
   "source": [
    "#Calculate Expected Probability Pe by multiplying probabilities row and column\n",
    "\n",
    "#Zip the two arrays: zip(array1,array2)] whilst ignoring the last 2 elements\n",
    "zipped = zip(confusion_matrix['prob_by_row'].values[:-2],confusion_matrix.loc['prob_by_column',].values[:-2])\n",
    "\n",
    "#Multiple elements in 2 arrays and calculate sum\n",
    "Pe = sum([a*b for a,b in zipped])\n",
    "Pe"
   ]
  },
  {
   "cell_type": "code",
   "execution_count": 227,
   "metadata": {
    "collapsed": false
   },
   "outputs": [
    {
     "data": {
      "text/plain": [
       "0.2075586711368485"
      ]
     },
     "execution_count": 227,
     "metadata": {},
     "output_type": "execute_result"
    }
   ],
   "source": [
    "#Calculate k\n",
    "k = (Po-Pe)/(1-Pe)\n",
    "k"
   ]
  }
 ],
 "metadata": {
  "anaconda-cloud": {},
  "kernelspec": {
   "display_name": "Python [Root]",
   "language": "python",
   "name": "Python [Root]"
  },
  "language_info": {
   "codemirror_mode": {
    "name": "ipython",
    "version": 3
   },
   "file_extension": ".py",
   "mimetype": "text/x-python",
   "name": "python",
   "nbconvert_exporter": "python",
   "pygments_lexer": "ipython3",
   "version": "3.5.2"
  }
 },
 "nbformat": 4,
 "nbformat_minor": 0
}
