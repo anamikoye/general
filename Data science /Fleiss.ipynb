{
 "cells": [
  {
   "cell_type": "markdown",
   "metadata": {},
   "source": [
    "## Fleiss Kappa Calculation\n",
    "\n",
    "\n",
    "<h2>Task: </h2>\n",
    "<p>This notebook details the manual implementation of Fleiss’s k as described in Part 2 of http://courses.ischool.berkeley.edu/i290-dds/s17/hw/hw1.pdf </p>\n"
   ]
  },
  {
   "cell_type": "code",
   "execution_count": 93,
   "metadata": {
    "collapsed": false,
    "scrolled": true
   },
   "outputs": [
    {
     "data": {
      "text/html": [
       "<div>\n",
       "<table border=\"1\" class=\"dataframe\">\n",
       "  <thead>\n",
       "    <tr style=\"text-align: right;\">\n",
       "      <th></th>\n",
       "      <th>0</th>\n",
       "      <th>1</th>\n",
       "      <th>2</th>\n",
       "    </tr>\n",
       "  </thead>\n",
       "  <tbody>\n",
       "    <tr>\n",
       "      <th>0</th>\n",
       "      <td>item:0</td>\n",
       "      <td>annotator:0</td>\n",
       "      <td>label:0</td>\n",
       "    </tr>\n",
       "    <tr>\n",
       "      <th>1</th>\n",
       "      <td>item:0</td>\n",
       "      <td>annotator:1</td>\n",
       "      <td>label:1</td>\n",
       "    </tr>\n",
       "    <tr>\n",
       "      <th>2</th>\n",
       "      <td>item:0</td>\n",
       "      <td>annotator:2</td>\n",
       "      <td>label:0</td>\n",
       "    </tr>\n",
       "    <tr>\n",
       "      <th>3</th>\n",
       "      <td>item:1</td>\n",
       "      <td>annotator:0</td>\n",
       "      <td>label:0</td>\n",
       "    </tr>\n",
       "    <tr>\n",
       "      <th>4</th>\n",
       "      <td>item:1</td>\n",
       "      <td>annotator:1</td>\n",
       "      <td>label:0</td>\n",
       "    </tr>\n",
       "  </tbody>\n",
       "</table>\n",
       "</div>"
      ],
      "text/plain": [
       "        0            1        2\n",
       "0  item:0  annotator:0  label:0\n",
       "1  item:0  annotator:1  label:1\n",
       "2  item:0  annotator:2  label:0\n",
       "3  item:1  annotator:0  label:0\n",
       "4  item:1  annotator:1  label:0"
      ]
     },
     "execution_count": 93,
     "metadata": {},
     "output_type": "execute_result"
    }
   ],
   "source": [
    "import pandas as pd\n",
    "import numpy as np\n",
    "#import the data\n",
    "datafile = 'hw1.part1.2.txt'\n",
    "data = pd.read_csv(datafile,delimiter='\\t',header=None) \n",
    "data.head()\n"
   ]
  },
  {
   "cell_type": "code",
   "execution_count": 94,
   "metadata": {
    "collapsed": false
   },
   "outputs": [
    {
     "name": "stdout",
     "output_type": "stream",
     "text": [
      "Number of items:  100\n",
      "Number of Annotators:  100  specifically:  ['annotator:0' 'annotator:1' 'annotator:2']\n",
      "Number of Labels 3  specifically:  ['label:0' 'label:1' 'label:2']\n"
     ]
    }
   ],
   "source": [
    "#data[0] = data[0].apply(lambda x: int(x[5:]))\n",
    "#data[1] = data[1].apply(lambda x: int(x[10:]))\n",
    "#data[2] = data[2].apply(lambda x: int(x[6:]))\n",
    "\n",
    "#data.head()\n",
    "#Confirm How many unique items, annotators and labels we have\n",
    "\n",
    "items  = data[0].unique() #Number of items\n",
    "annot = data[1].unique() #Number of Annotators\n",
    "labels = data[2].unique() #Number of Labels\n",
    "\n",
    "no_items = len(items) #Number of items\n",
    "no_annot = len(annot) #Number of Annotators\n",
    "no_labels = len(labels) #Number of Annotators\n",
    "\n",
    "print('Number of items: ',no_items) \n",
    "print('Number of Annotators: ', no_items,' specifically: ',data[1].unique()) \n",
    "print('Number of Labels',no_labels,' specifically: ',data[2].unique()) "
   ]
  },
  {
   "cell_type": "code",
   "execution_count": 95,
   "metadata": {
    "collapsed": false
   },
   "outputs": [
    {
     "data": {
      "text/plain": [
       "(100, 3)"
      ]
     },
     "execution_count": 95,
     "metadata": {},
     "output_type": "execute_result"
    }
   ],
   "source": [
    "#Create items by labels default matrix. \n",
    "#g = np.zeros([100,3], np.int32)\n",
    "g = np.zeros([len(items),len(labels)], np.int32) #Rows correspond to the number of items. Columns with number of labels\n",
    "default_matrix = pd.DataFrame(g, index=items,columns=labels) #index corresponds to the item. Column labels with labels\n",
    "default_matrix.shape"
   ]
  },
  {
   "cell_type": "code",
   "execution_count": 96,
   "metadata": {
    "collapsed": false
   },
   "outputs": [
    {
     "data": {
      "text/html": [
       "<div>\n",
       "<table border=\"1\" class=\"dataframe\">\n",
       "  <thead>\n",
       "    <tr style=\"text-align: right;\">\n",
       "      <th></th>\n",
       "      <th>label:0</th>\n",
       "      <th>label:1</th>\n",
       "      <th>label:2</th>\n",
       "    </tr>\n",
       "  </thead>\n",
       "  <tbody>\n",
       "    <tr>\n",
       "      <th>item:0</th>\n",
       "      <td>0</td>\n",
       "      <td>0</td>\n",
       "      <td>0</td>\n",
       "    </tr>\n",
       "    <tr>\n",
       "      <th>item:1</th>\n",
       "      <td>0</td>\n",
       "      <td>0</td>\n",
       "      <td>0</td>\n",
       "    </tr>\n",
       "    <tr>\n",
       "      <th>item:2</th>\n",
       "      <td>0</td>\n",
       "      <td>0</td>\n",
       "      <td>0</td>\n",
       "    </tr>\n",
       "    <tr>\n",
       "      <th>item:3</th>\n",
       "      <td>0</td>\n",
       "      <td>0</td>\n",
       "      <td>0</td>\n",
       "    </tr>\n",
       "    <tr>\n",
       "      <th>item:4</th>\n",
       "      <td>0</td>\n",
       "      <td>0</td>\n",
       "      <td>0</td>\n",
       "    </tr>\n",
       "  </tbody>\n",
       "</table>\n",
       "</div>"
      ],
      "text/plain": [
       "        label:0  label:1  label:2\n",
       "item:0        0        0        0\n",
       "item:1        0        0        0\n",
       "item:2        0        0        0\n",
       "item:3        0        0        0\n",
       "item:4        0        0        0"
      ]
     },
     "execution_count": 96,
     "metadata": {},
     "output_type": "execute_result"
    }
   ],
   "source": [
    "default_matrix.head()"
   ]
  },
  {
   "cell_type": "code",
   "execution_count": 97,
   "metadata": {
    "collapsed": false,
    "scrolled": true
   },
   "outputs": [
    {
     "data": {
      "text/html": [
       "<div>\n",
       "<table border=\"1\" class=\"dataframe\">\n",
       "  <thead>\n",
       "    <tr style=\"text-align: right;\">\n",
       "      <th></th>\n",
       "      <th></th>\n",
       "      <th>1</th>\n",
       "    </tr>\n",
       "    <tr>\n",
       "      <th>0</th>\n",
       "      <th>2</th>\n",
       "      <th></th>\n",
       "    </tr>\n",
       "  </thead>\n",
       "  <tbody>\n",
       "    <tr>\n",
       "      <th rowspan=\"2\" valign=\"top\">item:0</th>\n",
       "      <th>label:0</th>\n",
       "      <td>annotator:0</td>\n",
       "    </tr>\n",
       "    <tr>\n",
       "      <th>label:1</th>\n",
       "      <td>annotator:1</td>\n",
       "    </tr>\n",
       "    <tr>\n",
       "      <th>item:1</th>\n",
       "      <th>label:0</th>\n",
       "      <td>annotator:0</td>\n",
       "    </tr>\n",
       "    <tr>\n",
       "      <th rowspan=\"3\" valign=\"top\">item:10</th>\n",
       "      <th>label:0</th>\n",
       "      <td>annotator:1</td>\n",
       "    </tr>\n",
       "    <tr>\n",
       "      <th>label:1</th>\n",
       "      <td>annotator:0</td>\n",
       "    </tr>\n",
       "    <tr>\n",
       "      <th>label:2</th>\n",
       "      <td>annotator:2</td>\n",
       "    </tr>\n",
       "    <tr>\n",
       "      <th>item:11</th>\n",
       "      <th>label:0</th>\n",
       "      <td>annotator:0</td>\n",
       "    </tr>\n",
       "    <tr>\n",
       "      <th>item:12</th>\n",
       "      <th>label:0</th>\n",
       "      <td>annotator:0</td>\n",
       "    </tr>\n",
       "    <tr>\n",
       "      <th>item:13</th>\n",
       "      <th>label:2</th>\n",
       "      <td>annotator:0</td>\n",
       "    </tr>\n",
       "    <tr>\n",
       "      <th rowspan=\"2\" valign=\"top\">item:14</th>\n",
       "      <th>label:1</th>\n",
       "      <td>annotator:1</td>\n",
       "    </tr>\n",
       "    <tr>\n",
       "      <th>label:2</th>\n",
       "      <td>annotator:0</td>\n",
       "    </tr>\n",
       "    <tr>\n",
       "      <th rowspan=\"2\" valign=\"top\">item:15</th>\n",
       "      <th>label:0</th>\n",
       "      <td>annotator:0</td>\n",
       "    </tr>\n",
       "    <tr>\n",
       "      <th>label:2</th>\n",
       "      <td>annotator:1</td>\n",
       "    </tr>\n",
       "    <tr>\n",
       "      <th rowspan=\"2\" valign=\"top\">item:16</th>\n",
       "      <th>label:0</th>\n",
       "      <td>annotator:1</td>\n",
       "    </tr>\n",
       "    <tr>\n",
       "      <th>label:1</th>\n",
       "      <td>annotator:0</td>\n",
       "    </tr>\n",
       "    <tr>\n",
       "      <th rowspan=\"2\" valign=\"top\">item:17</th>\n",
       "      <th>label:1</th>\n",
       "      <td>annotator:0</td>\n",
       "    </tr>\n",
       "    <tr>\n",
       "      <th>label:2</th>\n",
       "      <td>annotator:1</td>\n",
       "    </tr>\n",
       "    <tr>\n",
       "      <th rowspan=\"2\" valign=\"top\">item:18</th>\n",
       "      <th>label:0</th>\n",
       "      <td>annotator:0</td>\n",
       "    </tr>\n",
       "    <tr>\n",
       "      <th>label:1</th>\n",
       "      <td>annotator:1</td>\n",
       "    </tr>\n",
       "    <tr>\n",
       "      <th rowspan=\"2\" valign=\"top\">item:19</th>\n",
       "      <th>label:0</th>\n",
       "      <td>annotator:0</td>\n",
       "    </tr>\n",
       "    <tr>\n",
       "      <th>label:2</th>\n",
       "      <td>annotator:1</td>\n",
       "    </tr>\n",
       "    <tr>\n",
       "      <th rowspan=\"2\" valign=\"top\">item:2</th>\n",
       "      <th>label:0</th>\n",
       "      <td>annotator:1</td>\n",
       "    </tr>\n",
       "    <tr>\n",
       "      <th>label:1</th>\n",
       "      <td>annotator:0</td>\n",
       "    </tr>\n",
       "    <tr>\n",
       "      <th rowspan=\"2\" valign=\"top\">item:20</th>\n",
       "      <th>label:0</th>\n",
       "      <td>annotator:1</td>\n",
       "    </tr>\n",
       "    <tr>\n",
       "      <th>label:1</th>\n",
       "      <td>annotator:0</td>\n",
       "    </tr>\n",
       "    <tr>\n",
       "      <th rowspan=\"2\" valign=\"top\">item:21</th>\n",
       "      <th>label:1</th>\n",
       "      <td>annotator:1</td>\n",
       "    </tr>\n",
       "    <tr>\n",
       "      <th>label:2</th>\n",
       "      <td>annotator:0</td>\n",
       "    </tr>\n",
       "    <tr>\n",
       "      <th>item:22</th>\n",
       "      <th>label:0</th>\n",
       "      <td>annotator:0</td>\n",
       "    </tr>\n",
       "    <tr>\n",
       "      <th>item:23</th>\n",
       "      <th>label:2</th>\n",
       "      <td>annotator:0</td>\n",
       "    </tr>\n",
       "    <tr>\n",
       "      <th>item:24</th>\n",
       "      <th>label:1</th>\n",
       "      <td>annotator:0</td>\n",
       "    </tr>\n",
       "    <tr>\n",
       "      <th>...</th>\n",
       "      <th>...</th>\n",
       "      <td>...</td>\n",
       "    </tr>\n",
       "    <tr>\n",
       "      <th>item:84</th>\n",
       "      <th>label:1</th>\n",
       "      <td>annotator:0</td>\n",
       "    </tr>\n",
       "    <tr>\n",
       "      <th rowspan=\"2\" valign=\"top\">item:85</th>\n",
       "      <th>label:0</th>\n",
       "      <td>annotator:0</td>\n",
       "    </tr>\n",
       "    <tr>\n",
       "      <th>label:2</th>\n",
       "      <td>annotator:2</td>\n",
       "    </tr>\n",
       "    <tr>\n",
       "      <th rowspan=\"2\" valign=\"top\">item:86</th>\n",
       "      <th>label:1</th>\n",
       "      <td>annotator:0</td>\n",
       "    </tr>\n",
       "    <tr>\n",
       "      <th>label:2</th>\n",
       "      <td>annotator:1</td>\n",
       "    </tr>\n",
       "    <tr>\n",
       "      <th rowspan=\"2\" valign=\"top\">item:87</th>\n",
       "      <th>label:1</th>\n",
       "      <td>annotator:0</td>\n",
       "    </tr>\n",
       "    <tr>\n",
       "      <th>label:2</th>\n",
       "      <td>annotator:2</td>\n",
       "    </tr>\n",
       "    <tr>\n",
       "      <th>item:88</th>\n",
       "      <th>label:1</th>\n",
       "      <td>annotator:0</td>\n",
       "    </tr>\n",
       "    <tr>\n",
       "      <th>item:89</th>\n",
       "      <th>label:2</th>\n",
       "      <td>annotator:0</td>\n",
       "    </tr>\n",
       "    <tr>\n",
       "      <th rowspan=\"2\" valign=\"top\">item:9</th>\n",
       "      <th>label:0</th>\n",
       "      <td>annotator:0</td>\n",
       "    </tr>\n",
       "    <tr>\n",
       "      <th>label:2</th>\n",
       "      <td>annotator:1</td>\n",
       "    </tr>\n",
       "    <tr>\n",
       "      <th rowspan=\"2\" valign=\"top\">item:90</th>\n",
       "      <th>label:0</th>\n",
       "      <td>annotator:2</td>\n",
       "    </tr>\n",
       "    <tr>\n",
       "      <th>label:2</th>\n",
       "      <td>annotator:0</td>\n",
       "    </tr>\n",
       "    <tr>\n",
       "      <th>item:91</th>\n",
       "      <th>label:2</th>\n",
       "      <td>annotator:0</td>\n",
       "    </tr>\n",
       "    <tr>\n",
       "      <th rowspan=\"2\" valign=\"top\">item:92</th>\n",
       "      <th>label:0</th>\n",
       "      <td>annotator:0</td>\n",
       "    </tr>\n",
       "    <tr>\n",
       "      <th>label:1</th>\n",
       "      <td>annotator:1</td>\n",
       "    </tr>\n",
       "    <tr>\n",
       "      <th rowspan=\"3\" valign=\"top\">item:93</th>\n",
       "      <th>label:0</th>\n",
       "      <td>annotator:0</td>\n",
       "    </tr>\n",
       "    <tr>\n",
       "      <th>label:1</th>\n",
       "      <td>annotator:1</td>\n",
       "    </tr>\n",
       "    <tr>\n",
       "      <th>label:2</th>\n",
       "      <td>annotator:2</td>\n",
       "    </tr>\n",
       "    <tr>\n",
       "      <th>item:94</th>\n",
       "      <th>label:1</th>\n",
       "      <td>annotator:0</td>\n",
       "    </tr>\n",
       "    <tr>\n",
       "      <th rowspan=\"2\" valign=\"top\">item:95</th>\n",
       "      <th>label:0</th>\n",
       "      <td>annotator:1</td>\n",
       "    </tr>\n",
       "    <tr>\n",
       "      <th>label:1</th>\n",
       "      <td>annotator:0</td>\n",
       "    </tr>\n",
       "    <tr>\n",
       "      <th rowspan=\"2\" valign=\"top\">item:96</th>\n",
       "      <th>label:0</th>\n",
       "      <td>annotator:1</td>\n",
       "    </tr>\n",
       "    <tr>\n",
       "      <th>label:1</th>\n",
       "      <td>annotator:0</td>\n",
       "    </tr>\n",
       "    <tr>\n",
       "      <th rowspan=\"2\" valign=\"top\">item:97</th>\n",
       "      <th>label:0</th>\n",
       "      <td>annotator:1</td>\n",
       "    </tr>\n",
       "    <tr>\n",
       "      <th>label:2</th>\n",
       "      <td>annotator:0</td>\n",
       "    </tr>\n",
       "    <tr>\n",
       "      <th rowspan=\"2\" valign=\"top\">item:98</th>\n",
       "      <th>label:0</th>\n",
       "      <td>annotator:2</td>\n",
       "    </tr>\n",
       "    <tr>\n",
       "      <th>label:1</th>\n",
       "      <td>annotator:0</td>\n",
       "    </tr>\n",
       "    <tr>\n",
       "      <th rowspan=\"2\" valign=\"top\">item:99</th>\n",
       "      <th>label:0</th>\n",
       "      <td>annotator:0</td>\n",
       "    </tr>\n",
       "    <tr>\n",
       "      <th>label:1</th>\n",
       "      <td>annotator:2</td>\n",
       "    </tr>\n",
       "  </tbody>\n",
       "</table>\n",
       "<p>183 rows × 1 columns</p>\n",
       "</div>"
      ],
      "text/plain": [
       "                           1\n",
       "0       2                   \n",
       "item:0  label:0  annotator:0\n",
       "        label:1  annotator:1\n",
       "item:1  label:0  annotator:0\n",
       "item:10 label:0  annotator:1\n",
       "        label:1  annotator:0\n",
       "        label:2  annotator:2\n",
       "item:11 label:0  annotator:0\n",
       "item:12 label:0  annotator:0\n",
       "item:13 label:2  annotator:0\n",
       "item:14 label:1  annotator:1\n",
       "        label:2  annotator:0\n",
       "item:15 label:0  annotator:0\n",
       "        label:2  annotator:1\n",
       "item:16 label:0  annotator:1\n",
       "        label:1  annotator:0\n",
       "item:17 label:1  annotator:0\n",
       "        label:2  annotator:1\n",
       "item:18 label:0  annotator:0\n",
       "        label:1  annotator:1\n",
       "item:19 label:0  annotator:0\n",
       "        label:2  annotator:1\n",
       "item:2  label:0  annotator:1\n",
       "        label:1  annotator:0\n",
       "item:20 label:0  annotator:1\n",
       "        label:1  annotator:0\n",
       "item:21 label:1  annotator:1\n",
       "        label:2  annotator:0\n",
       "item:22 label:0  annotator:0\n",
       "item:23 label:2  annotator:0\n",
       "item:24 label:1  annotator:0\n",
       "...                      ...\n",
       "item:84 label:1  annotator:0\n",
       "item:85 label:0  annotator:0\n",
       "        label:2  annotator:2\n",
       "item:86 label:1  annotator:0\n",
       "        label:2  annotator:1\n",
       "item:87 label:1  annotator:0\n",
       "        label:2  annotator:2\n",
       "item:88 label:1  annotator:0\n",
       "item:89 label:2  annotator:0\n",
       "item:9  label:0  annotator:0\n",
       "        label:2  annotator:1\n",
       "item:90 label:0  annotator:2\n",
       "        label:2  annotator:0\n",
       "item:91 label:2  annotator:0\n",
       "item:92 label:0  annotator:0\n",
       "        label:1  annotator:1\n",
       "item:93 label:0  annotator:0\n",
       "        label:1  annotator:1\n",
       "        label:2  annotator:2\n",
       "item:94 label:1  annotator:0\n",
       "item:95 label:0  annotator:1\n",
       "        label:1  annotator:0\n",
       "item:96 label:0  annotator:1\n",
       "        label:1  annotator:0\n",
       "item:97 label:0  annotator:1\n",
       "        label:2  annotator:0\n",
       "item:98 label:0  annotator:2\n",
       "        label:1  annotator:0\n",
       "item:99 label:0  annotator:0\n",
       "        label:1  annotator:2\n",
       "\n",
       "[183 rows x 1 columns]"
      ]
     },
     "execution_count": 97,
     "metadata": {},
     "output_type": "execute_result"
    }
   ],
   "source": [
    "#Group by Item and Label\n",
    "data_grouped = data.groupby([0,2])\n",
    "data_grouped.first()\n"
   ]
  },
  {
   "cell_type": "code",
   "execution_count": 98,
   "metadata": {
    "collapsed": false
   },
   "outputs": [
    {
     "name": "stdout",
     "output_type": "stream",
     "text": [
      "(('item:0', 'label:0'),         0            1        2\n",
      "0  item:0  annotator:0  label:0\n",
      "2  item:0  annotator:2  label:0)\n"
     ]
    }
   ],
   "source": [
    "for item in data_grouped:\n",
    "    print(item)\n",
    "    break"
   ]
  },
  {
   "cell_type": "code",
   "execution_count": 99,
   "metadata": {
    "collapsed": false
   },
   "outputs": [
    {
     "name": "stdout",
     "output_type": "stream",
     "text": [
      "('item:0', 'label:0')\n",
      "2\n"
     ]
    }
   ],
   "source": [
    "for item in data_grouped:\n",
    "    print(item[0])\n",
    "    print(len(item[1]))\n",
    "    break"
   ]
  },
  {
   "cell_type": "code",
   "execution_count": 100,
   "metadata": {
    "collapsed": false
   },
   "outputs": [
    {
     "data": {
      "text/html": [
       "<div>\n",
       "<table border=\"1\" class=\"dataframe\">\n",
       "  <thead>\n",
       "    <tr style=\"text-align: right;\">\n",
       "      <th></th>\n",
       "      <th>label:0</th>\n",
       "      <th>label:1</th>\n",
       "      <th>label:2</th>\n",
       "    </tr>\n",
       "  </thead>\n",
       "  <tbody>\n",
       "    <tr>\n",
       "      <th>item:0</th>\n",
       "      <td>2</td>\n",
       "      <td>1</td>\n",
       "      <td>0</td>\n",
       "    </tr>\n",
       "    <tr>\n",
       "      <th>item:1</th>\n",
       "      <td>3</td>\n",
       "      <td>0</td>\n",
       "      <td>0</td>\n",
       "    </tr>\n",
       "    <tr>\n",
       "      <th>item:2</th>\n",
       "      <td>2</td>\n",
       "      <td>1</td>\n",
       "      <td>0</td>\n",
       "    </tr>\n",
       "    <tr>\n",
       "      <th>item:3</th>\n",
       "      <td>1</td>\n",
       "      <td>0</td>\n",
       "      <td>2</td>\n",
       "    </tr>\n",
       "    <tr>\n",
       "      <th>item:4</th>\n",
       "      <td>0</td>\n",
       "      <td>3</td>\n",
       "      <td>0</td>\n",
       "    </tr>\n",
       "  </tbody>\n",
       "</table>\n",
       "</div>"
      ],
      "text/plain": [
       "        label:0  label:1  label:2\n",
       "item:0        2        1        0\n",
       "item:1        3        0        0\n",
       "item:2        2        1        0\n",
       "item:3        1        0        2\n",
       "item:4        0        3        0"
      ]
     },
     "execution_count": 100,
     "metadata": {},
     "output_type": "execute_result"
    }
   ],
   "source": [
    "# 'Count' value below  will be used to update values of default matrix from 0 to a count of how many times \n",
    "#an item was labelled with a specific label\n",
    "\n",
    "for item in data_grouped:\n",
    "    row_index = item[0][0] # e.g. 'item:0'\n",
    "    col_index = item[0][1] # e.g. 'label:0'\n",
    "    count = len(item[1])   # e.g   2- The item 0 is labelled 0 by 2 annotators\n",
    "    default_matrix[col_index][row_index] = count\n",
    "\n",
    "#Print out default_matrix after the updates. NB: Row-wise totals must be equal number of annotators (3 in this case)\n",
    "#This can be used to confirm the values for a few item-label pairs.\n",
    "default_matrix.head()"
   ]
  },
  {
   "cell_type": "code",
   "execution_count": 101,
   "metadata": {
    "collapsed": false
   },
   "outputs": [
    {
     "data": {
      "text/html": [
       "<div>\n",
       "<table border=\"1\" class=\"dataframe\">\n",
       "  <thead>\n",
       "    <tr style=\"text-align: right;\">\n",
       "      <th></th>\n",
       "      <th>label:0</th>\n",
       "      <th>label:1</th>\n",
       "      <th>label:2</th>\n",
       "      <th>Pi</th>\n",
       "    </tr>\n",
       "  </thead>\n",
       "  <tbody>\n",
       "    <tr>\n",
       "      <th>item:0</th>\n",
       "      <td>2</td>\n",
       "      <td>1</td>\n",
       "      <td>0</td>\n",
       "      <td>0.333333</td>\n",
       "    </tr>\n",
       "    <tr>\n",
       "      <th>item:1</th>\n",
       "      <td>3</td>\n",
       "      <td>0</td>\n",
       "      <td>0</td>\n",
       "      <td>1.000000</td>\n",
       "    </tr>\n",
       "    <tr>\n",
       "      <th>item:2</th>\n",
       "      <td>2</td>\n",
       "      <td>1</td>\n",
       "      <td>0</td>\n",
       "      <td>0.333333</td>\n",
       "    </tr>\n",
       "    <tr>\n",
       "      <th>item:3</th>\n",
       "      <td>1</td>\n",
       "      <td>0</td>\n",
       "      <td>2</td>\n",
       "      <td>0.333333</td>\n",
       "    </tr>\n",
       "    <tr>\n",
       "      <th>item:4</th>\n",
       "      <td>0</td>\n",
       "      <td>3</td>\n",
       "      <td>0</td>\n",
       "      <td>1.000000</td>\n",
       "    </tr>\n",
       "  </tbody>\n",
       "</table>\n",
       "</div>"
      ],
      "text/plain": [
       "        label:0  label:1  label:2        Pi\n",
       "item:0        2        1        0  0.333333\n",
       "item:1        3        0        0  1.000000\n",
       "item:2        2        1        0  0.333333\n",
       "item:3        1        0        2  0.333333\n",
       "item:4        0        3        0  1.000000"
      ]
     },
     "execution_count": 101,
     "metadata": {},
     "output_type": "execute_result"
    }
   ],
   "source": [
    "from functools import *\n",
    "\n",
    "#Calculate Pi\n",
    "#For each row, calculate the sum of squares for each element.Pi is calculated by subtracting the number of annotators \n",
    "#from that sum and dividing by product of the number of annotators and the number of annotators -1\n",
    "def Pi_cal(row):\n",
    "    #print(row)\n",
    "    sum_of_squares = sum(map((lambda u: u **2), [x for x in row if x]))\n",
    "    Pi= (sum_of_squares - no_annot)/(no_annot*(no_annot-1))\n",
    "    return Pi\n",
    "\n",
    "arr=[]\n",
    "for x in default_matrix.values:\n",
    "    arr.append(Pi_cal(x))\n",
    "\n",
    "default_matrix['Pi'] =arr\n",
    " \n",
    "default_matrix.head()\n",
    "\n",
    "#default_matrix['Pi'] = default_matrix[labels].map(lambda x: Pi_cal(x) )"
   ]
  },
  {
   "cell_type": "code",
   "execution_count": 102,
   "metadata": {
    "collapsed": false
   },
   "outputs": [
    {
     "data": {
      "text/html": [
       "<div>\n",
       "<table border=\"1\" class=\"dataframe\">\n",
       "  <thead>\n",
       "    <tr style=\"text-align: right;\">\n",
       "      <th></th>\n",
       "      <th>label:0</th>\n",
       "      <th>label:1</th>\n",
       "      <th>label:2</th>\n",
       "      <th>Pi</th>\n",
       "    </tr>\n",
       "  </thead>\n",
       "  <tbody>\n",
       "    <tr>\n",
       "      <th>item:96</th>\n",
       "      <td>2.0</td>\n",
       "      <td>1.0</td>\n",
       "      <td>0.0</td>\n",
       "      <td>0.333333</td>\n",
       "    </tr>\n",
       "    <tr>\n",
       "      <th>item:97</th>\n",
       "      <td>1.0</td>\n",
       "      <td>0.0</td>\n",
       "      <td>2.0</td>\n",
       "      <td>0.333333</td>\n",
       "    </tr>\n",
       "    <tr>\n",
       "      <th>item:98</th>\n",
       "      <td>1.0</td>\n",
       "      <td>2.0</td>\n",
       "      <td>0.0</td>\n",
       "      <td>0.333333</td>\n",
       "    </tr>\n",
       "    <tr>\n",
       "      <th>item:99</th>\n",
       "      <td>2.0</td>\n",
       "      <td>1.0</td>\n",
       "      <td>0.0</td>\n",
       "      <td>0.333333</td>\n",
       "    </tr>\n",
       "    <tr>\n",
       "      <th>totals</th>\n",
       "      <td>113.0</td>\n",
       "      <td>83.0</td>\n",
       "      <td>104.0</td>\n",
       "      <td>48.000000</td>\n",
       "    </tr>\n",
       "  </tbody>\n",
       "</table>\n",
       "</div>"
      ],
      "text/plain": [
       "         label:0  label:1  label:2         Pi\n",
       "item:96      2.0      1.0      0.0   0.333333\n",
       "item:97      1.0      0.0      2.0   0.333333\n",
       "item:98      1.0      2.0      0.0   0.333333\n",
       "item:99      2.0      1.0      0.0   0.333333\n",
       "totals     113.0     83.0    104.0  48.000000"
      ]
     },
     "execution_count": 102,
     "metadata": {},
     "output_type": "execute_result"
    }
   ],
   "source": [
    "#Add extra row for totals.\n",
    "final = default_matrix.append(pd.Series(default_matrix.sum(numeric_only=True), name = \"totals\"))\n",
    "final.tail()"
   ]
  },
  {
   "cell_type": "code",
   "execution_count": 103,
   "metadata": {
    "collapsed": false
   },
   "outputs": [
    {
     "data": {
      "text/plain": [
       "0.48000000000000037"
      ]
     },
     "execution_count": 103,
     "metadata": {},
     "output_type": "execute_result"
    }
   ],
   "source": [
    "#Calculate the mean of the column Pi\n",
    "Pm = final.iloc[-1]['Pi']/no_items\n",
    "Pm"
   ]
  },
  {
   "cell_type": "code",
   "execution_count": 104,
   "metadata": {
    "collapsed": false
   },
   "outputs": [
    {
     "data": {
      "text/plain": [
       "0.33860000000000001"
      ]
     },
     "execution_count": 104,
     "metadata": {},
     "output_type": "execute_result"
    }
   ],
   "source": [
    "#Calculate Pj which is the product of all items by number of annotators. Example 100 items by 3 annotators = 300\n",
    "Pj = int(no_items*no_annot)\n",
    "\n",
    "#Pe is the sum of the square of each item of the last row ( i.e.sum of each column) divided by Pj\n",
    "Pe =sum([((final.iloc[-1][labels[x]])/Pj)**2  for x in range(len(labels)) ])\n",
    "Pe"
   ]
  },
  {
   "cell_type": "code",
   "execution_count": 105,
   "metadata": {
    "collapsed": false
   },
   "outputs": [
    {
     "data": {
      "text/plain": [
       "0.21378893256728207"
      ]
     },
     "execution_count": 105,
     "metadata": {},
     "output_type": "execute_result"
    }
   ],
   "source": [
    "#Calculate Fleiss Coppa \n",
    "k = (Pm-Pe)/(1-Pe)\n",
    "k"
   ]
  },
  {
   "cell_type": "code",
   "execution_count": null,
   "metadata": {
    "collapsed": true
   },
   "outputs": [],
   "source": []
  }
 ],
 "metadata": {
  "anaconda-cloud": {},
  "kernelspec": {
   "display_name": "Python [Root]",
   "language": "python",
   "name": "Python [Root]"
  },
  "language_info": {
   "codemirror_mode": {
    "name": "ipython",
    "version": 3
   },
   "file_extension": ".py",
   "mimetype": "text/x-python",
   "name": "python",
   "nbconvert_exporter": "python",
   "pygments_lexer": "ipython3",
   "version": "3.5.2"
  }
 },
 "nbformat": 4,
 "nbformat_minor": 0
}
