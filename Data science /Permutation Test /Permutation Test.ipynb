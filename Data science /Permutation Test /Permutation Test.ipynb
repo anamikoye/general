{
 "cells": [
  {
   "cell_type": "markdown",
   "metadata": {},
   "source": [
    "### Permutation Tests\n",
    "\n",
    "##### Prompt: Are movies that contain John Goodman significantly different in number of box office hits (either higher or lower) than those that do not?\n",
    "Consider the following hypothesis:\n",
    "Movies that contain John Goodman have a significantly different number of box office hits (either higher\n",
    "or lower) than those that do not.\n",
    "\n",
    "Code and execute a permutation test evaluating this hypothesis. Can the null hypothesis (that movies featuring\n",
    "John Goodman have the same proportion of box office hits as those that do not) be rejected with a significance level\n",
    "of α = 0.01? If so, what is the size and direction (positive or negative) of the effect?"
   ]
  },
  {
   "cell_type": "code",
   "execution_count": 1,
   "metadata": {
    "collapsed": true
   },
   "outputs": [],
   "source": [
    "#Importations\n",
    "import numpy as np\n",
    "import pandas as pd\n",
    "\n",
    "#Initializations\n",
    "B = 10000 #number of permutations"
   ]
  },
  {
   "cell_type": "code",
   "execution_count": 2,
   "metadata": {
    "collapsed": false
   },
   "outputs": [
    {
     "data": {
      "text/html": [
       "<div>\n",
       "<table border=\"1\" class=\"dataframe\">\n",
       "  <thead>\n",
       "    <tr style=\"text-align: right;\">\n",
       "      <th></th>\n",
       "      <th>0</th>\n",
       "      <th>1</th>\n",
       "      <th>2</th>\n",
       "    </tr>\n",
       "  </thead>\n",
       "  <tbody>\n",
       "    <tr>\n",
       "      <th>0</th>\n",
       "      <td>Horror</td>\n",
       "      <td>1</td>\n",
       "      <td>975900</td>\n",
       "    </tr>\n",
       "    <tr>\n",
       "      <th>1</th>\n",
       "      <td>Science_Fiction</td>\n",
       "      <td>1</td>\n",
       "      <td>975900</td>\n",
       "    </tr>\n",
       "    <tr>\n",
       "      <th>2</th>\n",
       "      <td>Supernatural</td>\n",
       "      <td>1</td>\n",
       "      <td>975900</td>\n",
       "    </tr>\n",
       "    <tr>\n",
       "      <th>3</th>\n",
       "      <td>Adventure</td>\n",
       "      <td>1</td>\n",
       "      <td>975900</td>\n",
       "    </tr>\n",
       "    <tr>\n",
       "      <th>4</th>\n",
       "      <td>Action</td>\n",
       "      <td>1</td>\n",
       "      <td>975900</td>\n",
       "    </tr>\n",
       "  </tbody>\n",
       "</table>\n",
       "</div>"
      ],
      "text/plain": [
       "                 0  1       2\n",
       "0           Horror  1  975900\n",
       "1  Science_Fiction  1  975900\n",
       "2     Supernatural  1  975900\n",
       "3        Adventure  1  975900\n",
       "4           Action  1  975900"
      ]
     },
     "execution_count": 2,
     "metadata": {},
     "output_type": "execute_result"
    }
   ],
   "source": [
    "#read data file\n",
    "data = pd.read_csv(\"movie.features.txt\",sep='\\t',header=-1)\n",
    "data.head()"
   ]
  },
  {
   "cell_type": "code",
   "execution_count": 3,
   "metadata": {
    "collapsed": false
   },
   "outputs": [
    {
     "data": {
      "text/plain": [
       "(39360, 3)"
      ]
     },
     "execution_count": 3,
     "metadata": {},
     "output_type": "execute_result"
    }
   ],
   "source": [
    "data.shape"
   ]
  },
  {
   "cell_type": "code",
   "execution_count": 4,
   "metadata": {
    "collapsed": false,
    "scrolled": true
   },
   "outputs": [
    {
     "name": "stdout",
     "output_type": "stream",
     "text": [
      "All Movies:  8304 \n",
      "Movies with John: 59 \n",
      "Movies without John: 8245\n"
     ]
    }
   ],
   "source": [
    "#Create array 'movies'(all movies), X_observed (movies that have John Goodman) and  Y_observed (movies that don't have J. Goodman)\n",
    "movies = data[2].unique()\n",
    "\n",
    "#Select all the rows that have 'John_Goodman' in their first column\n",
    "rows_with_John = data.loc[data[0] == 'John_Goodman'] \n",
    "X_observed = rows_with_John[2].unique()\n",
    "X_size = len(X_observed)\n",
    "\n",
    "#Get Y by excluding movies in X from the set of all movies\n",
    "Y_observed = set(movies) - set(X_observed)\n",
    "\n",
    "print('All Movies: ',len(movies),'\\nMovies with John:',X_size,'\\nMovies without John:',len(Y_observed))\n"
   ]
  },
  {
   "cell_type": "code",
   "execution_count": 5,
   "metadata": {
    "collapsed": false
   },
   "outputs": [
    {
     "data": {
      "text/html": [
       "<div>\n",
       "<table border=\"1\" class=\"dataframe\">\n",
       "  <thead>\n",
       "    <tr style=\"text-align: right;\">\n",
       "      <th></th>\n",
       "      <th>0</th>\n",
       "      <th>1</th>\n",
       "    </tr>\n",
       "  </thead>\n",
       "  <tbody>\n",
       "    <tr>\n",
       "      <th>0</th>\n",
       "      <td>975900</td>\n",
       "      <td>0</td>\n",
       "    </tr>\n",
       "    <tr>\n",
       "      <th>1</th>\n",
       "      <td>10408933</td>\n",
       "      <td>0</td>\n",
       "    </tr>\n",
       "    <tr>\n",
       "      <th>2</th>\n",
       "      <td>171005</td>\n",
       "      <td>0</td>\n",
       "    </tr>\n",
       "    <tr>\n",
       "      <th>3</th>\n",
       "      <td>77856</td>\n",
       "      <td>1</td>\n",
       "    </tr>\n",
       "    <tr>\n",
       "      <th>4</th>\n",
       "      <td>612710</td>\n",
       "      <td>0</td>\n",
       "    </tr>\n",
       "  </tbody>\n",
       "</table>\n",
       "</div>"
      ],
      "text/plain": [
       "          0  1\n",
       "0    975900  0\n",
       "1  10408933  0\n",
       "2    171005  0\n",
       "3     77856  1\n",
       "4    612710  0"
      ]
     },
     "execution_count": 5,
     "metadata": {},
     "output_type": "execute_result"
    }
   ],
   "source": [
    "#Calculate observed difference in means    \n",
    "# 1. Read second data file with box office hit indicators\n",
    "df = pd.read_csv(\"movie.box_office.txt\",sep='\\t',header=-1)\n",
    "df.head()"
   ]
  },
  {
   "cell_type": "code",
   "execution_count": 6,
   "metadata": {
    "collapsed": false
   },
   "outputs": [
    {
     "data": {
      "text/plain": [
       "0.15765898181743432"
      ]
     },
     "execution_count": 6,
     "metadata": {},
     "output_type": "execute_result"
    }
   ],
   "source": [
    "# 2. Function that looks up the box-office hit values  (1/0)s given an array of Movie IDs\n",
    "def get_box_office_hits(array):\n",
    "    #Select all the rows that have their MovieID in the passed array\n",
    "    box_office = df.select(lambda x: df.loc[x][0] in array, axis=0) \n",
    "    return box_office[1]\n",
    "    \n",
    "# 3. Functions that returns the mean difference in box-office hit values\n",
    "def mean_difference(X_hits,Y_hits):\n",
    "    try:\n",
    "        mean_X = sum(X_hits)/len(X_hits)\n",
    "        mean_Y = sum(Y_hits)/len(Y_hits)\n",
    "    except:\n",
    "        return None\n",
    "    return mean_X-mean_Y\n",
    "\n",
    "# Observed_mean_difference \n",
    "Observed_mean_difference = mean_difference (get_box_office_hits(X_observed),get_box_office_hits(Y_observed) )\n",
    "\n",
    "Observed_mean_difference"
   ]
  },
  {
   "cell_type": "markdown",
   "metadata": {},
   "source": [
    "###### Permutations\n",
    "Now that we have the observed mean difference, we can resample by performing permutations assuming that the labels X and Y (that reflect whether John acted the movie or not) do not matter. We split the data randomly based on an X_size, Y_size Split\n"
   ]
  },
  {
   "cell_type": "code",
   "execution_count": 7,
   "metadata": {
    "collapsed": false
   },
   "outputs": [
    {
     "data": {
      "text/plain": [
       "([-0.038165914627252273,\n",
       "  0.013045399882825742,\n",
       "  0.047186276222877743,\n",
       "  0.081327152562929772,\n",
       "  0.047186276222877743,\n",
       "  0.013045399882825742,\n",
       "  -0.089377229137330261,\n",
       "  0.081327152562929772,\n",
       "  0.030115838052851757,\n",
       "  -0.10644766730735628],\n",
       " [])"
      ]
     },
     "execution_count": 7,
     "metadata": {},
     "output_type": "execute_result"
    }
   ],
   "source": [
    "#While B=10,000 the permutations take a significant amount of time to run.\n",
    "#I have reduced the size of B here for demonstration purposes.\n",
    "\n",
    "permutated_diffs = []\n",
    "all_permutated_diffs = []\n",
    "B=10\n",
    "def permutations(): \n",
    "    for x in range(B):\n",
    "        movies_perm = np.random.permutation(movies) #randomize\n",
    "        X_perm = movies_perm[X_size:]\n",
    "        Y_perm = movies_perm[:X_size]\n",
    "        permutated_mean_difference = mean_difference (get_box_office_hits(X_perm),get_box_office_hits(Y_perm) )\n",
    "        all_permutated_diffs.append(permutated_mean_difference)\n",
    "        if permutated_mean_difference >=Observed_mean_difference:\n",
    "            permutated_diffs.append(permutated_mean_difference)\n",
    "    return all_permutated_diffs, permutated_diffs   \n",
    "\n",
    "perm = permutations()\n",
    "perm"
   ]
  },
  {
   "cell_type": "code",
   "execution_count": 8,
   "metadata": {
    "collapsed": false
   },
   "outputs": [
    {
     "name": "stdout",
     "output_type": "stream",
     "text": [
      "0.00\n"
     ]
    }
   ],
   "source": [
    "p_value = len(perm[1])/float(B)\n",
    "print(\"%.2f\" % p_value)"
   ]
  },
  {
   "cell_type": "code",
   "execution_count": 9,
   "metadata": {
    "collapsed": false
   },
   "outputs": [
    {
     "name": "stdout",
     "output_type": "stream",
     "text": [
      "0.149734713386\n"
     ]
    }
   ],
   "source": [
    "#calculate the effect size by comparing the observed mean with that of the permutated values\n",
    "\n",
    "overall_permutated_mean_difference = sum(perm[0])/len(perm[0])\n",
    "effect_size = Observed_mean_difference - overall_permutated_mean_difference\n",
    "print(effect_size)"
   ]
  },
  {
   "cell_type": "markdown",
   "metadata": {},
   "source": [
    "### Conclusion\n",
    "\n",
    "The p value of the data is 0.00 which implies that the null hypothesis is almost impossible. Since it's less than the significance level of  α = 0.01 it follows that the results are statistically significant and we can reject the null hypothesis that ‘Movies that have John Goodman have the same number of box office hits as those that don’t.’ with a 99% confidence level. The effect size is 0.149734713386 in the positive direction.\n"
   ]
  }
 ],
 "metadata": {
  "anaconda-cloud": {},
  "kernelspec": {
   "display_name": "Python [Root]",
   "language": "python",
   "name": "Python [Root]"
  },
  "language_info": {
   "codemirror_mode": {
    "name": "ipython",
    "version": 3
   },
   "file_extension": ".py",
   "mimetype": "text/x-python",
   "name": "python",
   "nbconvert_exporter": "python",
   "pygments_lexer": "ipython3",
   "version": "3.5.2"
  }
 },
 "nbformat": 4,
 "nbformat_minor": 0
}
