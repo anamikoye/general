{
 "cells": [
  {
   "cell_type": "code",
   "execution_count": 14,
   "metadata": {},
   "outputs": [],
   "source": [
    "#Importations\n",
    "import pickle\n",
    "import pandas as pd"
   ]
  },
  {
   "cell_type": "code",
   "execution_count": 15,
   "metadata": {},
   "outputs": [],
   "source": [
    "#Variables\n",
    "new_comments = [\"My claim from December has not yet been handled.\" ]\n",
    "\n",
    "#Predefined\n",
    "model_name = \"insurance.sav\"\n",
    "target_names = ['agents',\n",
    "  'claims',\n",
    "  'communication',\n",
    "  'policy',\n",
    "  'premiums',\n",
    "  'product',\n",
    "  'service',\n",
    "  'speed/efficiency',\n",
    "  'staff'] #The order of this is important"
   ]
  },
  {
   "cell_type": "code",
   "execution_count": 16,
   "metadata": {},
   "outputs": [
    {
     "data": {
      "text/html": [
       "<div>\n",
       "<style scoped>\n",
       "    .dataframe tbody tr th:only-of-type {\n",
       "        vertical-align: middle;\n",
       "    }\n",
       "\n",
       "    .dataframe tbody tr th {\n",
       "        vertical-align: top;\n",
       "    }\n",
       "\n",
       "    .dataframe thead th {\n",
       "        text-align: right;\n",
       "    }\n",
       "</style>\n",
       "<table border=\"1\" class=\"dataframe\">\n",
       "  <thead>\n",
       "    <tr style=\"text-align: right;\">\n",
       "      <th></th>\n",
       "      <th>agents</th>\n",
       "      <th>claims</th>\n",
       "      <th>communication</th>\n",
       "      <th>policy</th>\n",
       "      <th>premiums</th>\n",
       "      <th>product</th>\n",
       "      <th>service</th>\n",
       "      <th>speed/efficiency</th>\n",
       "      <th>staff</th>\n",
       "    </tr>\n",
       "  </thead>\n",
       "  <tbody>\n",
       "    <tr>\n",
       "      <th>0</th>\n",
       "      <td>0</td>\n",
       "      <td>1</td>\n",
       "      <td>0</td>\n",
       "      <td>0</td>\n",
       "      <td>0</td>\n",
       "      <td>0</td>\n",
       "      <td>0</td>\n",
       "      <td>0</td>\n",
       "      <td>0</td>\n",
       "    </tr>\n",
       "  </tbody>\n",
       "</table>\n",
       "</div>"
      ],
      "text/plain": [
       "   agents  claims  communication  policy  premiums  product  service  \\\n",
       "0       0       1              0       0         0        0        0   \n",
       "\n",
       "   speed/efficiency  staff  \n",
       "0                 0      0  "
      ]
     },
     "execution_count": 16,
     "metadata": {},
     "output_type": "execute_result"
    }
   ],
   "source": [
    "# load the model from disk\n",
    "loaded_model = pickle.load(open(model_name, 'rb'))\n",
    "result = loaded_model.predict(new_comments) #Use model to make predictions\n",
    "result = pd.DataFrame(result, columns=target_names)\n",
    "result"
   ]
  },
  {
   "cell_type": "code",
   "execution_count": 18,
   "metadata": {},
   "outputs": [
    {
     "name": "stdout",
     "output_type": "stream",
     "text": [
      "\n",
      "'My claim from December has not yet been handled.' ===> ['claims']\n"
     ]
    }
   ],
   "source": [
    "for tw, category in zip(new_comments, result.iterrows()):\n",
    "    themes=[]\n",
    "    for i in range(len(category[1])) :\n",
    "        if category[1][i] == 1:\n",
    "            themes.append(target_names[i])\n",
    "    print('\\n%r ===> %s' % (tw, themes))"
   ]
  }
 ],
 "metadata": {
  "kernelspec": {
   "display_name": "Python 2",
   "language": "python",
   "name": "python2"
  },
  "language_info": {
   "codemirror_mode": {
    "name": "ipython",
    "version": 2
   },
   "file_extension": ".py",
   "mimetype": "text/x-python",
   "name": "python",
   "nbconvert_exporter": "python",
   "pygments_lexer": "ipython2",
   "version": "2.7.15"
  }
 },
 "nbformat": 4,
 "nbformat_minor": 2
}
