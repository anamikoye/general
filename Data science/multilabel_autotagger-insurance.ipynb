{
 "cells": [
  {
   "cell_type": "markdown",
   "metadata": {},
   "source": [
    "## Multi-Label Auto-Tagger\n",
    "\n",
    "### Automatic Comment tagging\n",
    "\n",
    "The purpose of this document is to create an automated tagging system that tags a comment as belonging to a small set of predetermined categories.\n",
    "Once comment can have multiple tags hence the multilabeling approach.\n",
    "\n",
    "\n",
    "Example: {'Fantastic meals....quite good service':['food','service']}\n"
   ]
  },
  {
   "cell_type": "code",
   "execution_count": 1,
   "metadata": {},
   "outputs": [],
   "source": [
    "###Importations\n",
    "import numpy as np\n",
    "import pandas as pd\n",
    "from sklearn.feature_extraction.text import CountVectorizer,TfidfTransformer\n",
    "from sklearn.utils import shuffle\n",
    "from sklearn import metrics\n",
    "\n",
    "from sklearn.feature_extraction.text import CountVectorizer\n",
    "from sklearn.feature_extraction.text import TfidfTransformer\n",
    "from sklearn.naive_bayes import MultinomialNB\n",
    "from sklearn.preprocessing import MultiLabelBinarizer\n",
    "\n",
    "import re\n",
    "import matplotlib\n",
    "import numpy as np\n",
    "import matplotlib.pyplot as plt\n",
    "import pandas as pd\n",
    "from sklearn.model_selection import train_test_split\n",
    "from sklearn.feature_extraction.text import TfidfVectorizer\n",
    "from sklearn.naive_bayes import MultinomialNB\n",
    "from sklearn.metrics import accuracy_score\n",
    "from sklearn.multiclass import OneVsRestClassifier\n",
    "from xgboost.sklearn import XGBClassifier\n",
    "from nltk.corpus import stopwords\n",
    "stop_words = set(stopwords.words('english'))\n",
    "from sklearn.pipeline import Pipeline\n",
    "import seaborn as sns\n",
    "import pickle"
   ]
  },
  {
   "cell_type": "markdown",
   "metadata": {},
   "source": [
    "## Train"
   ]
  },
  {
   "cell_type": "markdown",
   "metadata": {},
   "source": [
    "#### a.) Load the Data"
   ]
  },
  {
   "cell_type": "code",
   "execution_count": 2,
   "metadata": {},
   "outputs": [
    {
     "data": {
      "text/html": [
       "<div>\n",
       "<style scoped>\n",
       "    .dataframe tbody tr th:only-of-type {\n",
       "        vertical-align: middle;\n",
       "    }\n",
       "\n",
       "    .dataframe tbody tr th {\n",
       "        vertical-align: top;\n",
       "    }\n",
       "\n",
       "    .dataframe thead th {\n",
       "        text-align: right;\n",
       "    }\n",
       "</style>\n",
       "<table border=\"1\" class=\"dataframe\">\n",
       "  <thead>\n",
       "    <tr style=\"text-align: right;\">\n",
       "      <th></th>\n",
       "      <th>userId</th>\n",
       "      <th>phone</th>\n",
       "      <th>company</th>\n",
       "      <th>rating</th>\n",
       "      <th>comment</th>\n",
       "      <th>theme</th>\n",
       "    </tr>\n",
       "  </thead>\n",
       "  <tbody>\n",
       "    <tr>\n",
       "      <th>0</th>\n",
       "      <td>5877440</td>\n",
       "      <td>254700001454</td>\n",
       "      <td>britam</td>\n",
       "      <td>10</td>\n",
       "      <td>No complains on my part...so far so good</td>\n",
       "      <td>service</td>\n",
       "    </tr>\n",
       "    <tr>\n",
       "      <th>1</th>\n",
       "      <td>33</td>\n",
       "      <td>254700001920</td>\n",
       "      <td>liberty</td>\n",
       "      <td>10</td>\n",
       "      <td>Good relationship with the staff. Talking poli...</td>\n",
       "      <td>staff</td>\n",
       "    </tr>\n",
       "    <tr>\n",
       "      <th>2</th>\n",
       "      <td>38</td>\n",
       "      <td>254700006348</td>\n",
       "      <td>liberty</td>\n",
       "      <td>9</td>\n",
       "      <td>It also provides asset management and property...</td>\n",
       "      <td>service</td>\n",
       "    </tr>\n",
       "    <tr>\n",
       "      <th>3</th>\n",
       "      <td>2817604</td>\n",
       "      <td>254700040400</td>\n",
       "      <td>britam</td>\n",
       "      <td>10</td>\n",
       "      <td>Carol Wambugu is a very pleasant Customer serv...</td>\n",
       "      <td>service</td>\n",
       "    </tr>\n",
       "    <tr>\n",
       "      <th>4</th>\n",
       "      <td>2817604</td>\n",
       "      <td>254700040400</td>\n",
       "      <td>britam</td>\n",
       "      <td>10</td>\n",
       "      <td>Carol Wambugu is a very pleasant Customer serv...</td>\n",
       "      <td>staff</td>\n",
       "    </tr>\n",
       "  </tbody>\n",
       "</table>\n",
       "</div>"
      ],
      "text/plain": [
       "    userId         phone  company rating  \\\n",
       "0  5877440  254700001454   britam     10   \n",
       "1       33  254700001920  liberty     10   \n",
       "2       38  254700006348  liberty      9   \n",
       "3  2817604  254700040400   britam     10   \n",
       "4  2817604  254700040400   britam     10   \n",
       "\n",
       "                                             comment    theme  \n",
       "0           No complains on my part...so far so good  service  \n",
       "1  Good relationship with the staff. Talking poli...    staff  \n",
       "2  It also provides asset management and property...  service  \n",
       "3  Carol Wambugu is a very pleasant Customer serv...  service  \n",
       "4  Carol Wambugu is a very pleasant Customer serv...    staff  "
      ]
     },
     "execution_count": 2,
     "metadata": {},
     "output_type": "execute_result"
    }
   ],
   "source": [
    "#csvdata = pd.read_csv('datasets/Java-training-data_V1.csv')\n",
    "csvdata = pd.read_csv('datasets/insuranceThemes_V1.csv')\n",
    "csvdata.head()"
   ]
  },
  {
   "cell_type": "code",
   "execution_count": 3,
   "metadata": {},
   "outputs": [],
   "source": [
    "#make everything in the themes column lower case.\n",
    "csvdata['theme'] = [x.lower() for x in csvdata['theme']]\n",
    "\n",
    "#Themes has speed and speed/efficiency that need to be combined to one (speed/efficiency)\n",
    "csvdata['theme'] = [re.sub(r'speed$', 'speed/efficiency', x) for x in csvdata['theme']]\n"
   ]
  },
  {
   "cell_type": "code",
   "execution_count": 4,
   "metadata": {},
   "outputs": [
    {
     "data": {
      "text/html": [
       "<div>\n",
       "<style scoped>\n",
       "    .dataframe tbody tr th:only-of-type {\n",
       "        vertical-align: middle;\n",
       "    }\n",
       "\n",
       "    .dataframe tbody tr th {\n",
       "        vertical-align: top;\n",
       "    }\n",
       "\n",
       "    .dataframe thead th {\n",
       "        text-align: right;\n",
       "    }\n",
       "</style>\n",
       "<table border=\"1\" class=\"dataframe\">\n",
       "  <thead>\n",
       "    <tr style=\"text-align: right;\">\n",
       "      <th></th>\n",
       "      <th>userId</th>\n",
       "      <th>phone</th>\n",
       "      <th>company</th>\n",
       "      <th>rating</th>\n",
       "      <th>comment</th>\n",
       "      <th>theme</th>\n",
       "      <th>theme_categories</th>\n",
       "    </tr>\n",
       "  </thead>\n",
       "  <tbody>\n",
       "    <tr>\n",
       "      <th>0</th>\n",
       "      <td>5877440</td>\n",
       "      <td>254700001454</td>\n",
       "      <td>britam</td>\n",
       "      <td>10</td>\n",
       "      <td>No complains on my part...so far so good</td>\n",
       "      <td>service</td>\n",
       "      <td>6</td>\n",
       "    </tr>\n",
       "    <tr>\n",
       "      <th>1</th>\n",
       "      <td>33</td>\n",
       "      <td>254700001920</td>\n",
       "      <td>liberty</td>\n",
       "      <td>10</td>\n",
       "      <td>Good relationship with the staff. Talking poli...</td>\n",
       "      <td>staff</td>\n",
       "      <td>8</td>\n",
       "    </tr>\n",
       "    <tr>\n",
       "      <th>2</th>\n",
       "      <td>38</td>\n",
       "      <td>254700006348</td>\n",
       "      <td>liberty</td>\n",
       "      <td>9</td>\n",
       "      <td>It also provides asset management and property...</td>\n",
       "      <td>service</td>\n",
       "      <td>6</td>\n",
       "    </tr>\n",
       "    <tr>\n",
       "      <th>3</th>\n",
       "      <td>2817604</td>\n",
       "      <td>254700040400</td>\n",
       "      <td>britam</td>\n",
       "      <td>10</td>\n",
       "      <td>Carol Wambugu is a very pleasant Customer serv...</td>\n",
       "      <td>service</td>\n",
       "      <td>6</td>\n",
       "    </tr>\n",
       "    <tr>\n",
       "      <th>4</th>\n",
       "      <td>2817604</td>\n",
       "      <td>254700040400</td>\n",
       "      <td>britam</td>\n",
       "      <td>10</td>\n",
       "      <td>Carol Wambugu is a very pleasant Customer serv...</td>\n",
       "      <td>staff</td>\n",
       "      <td>8</td>\n",
       "    </tr>\n",
       "  </tbody>\n",
       "</table>\n",
       "</div>"
      ],
      "text/plain": [
       "    userId         phone  company rating  \\\n",
       "0  5877440  254700001454   britam     10   \n",
       "1       33  254700001920  liberty     10   \n",
       "2       38  254700006348  liberty      9   \n",
       "3  2817604  254700040400   britam     10   \n",
       "4  2817604  254700040400   britam     10   \n",
       "\n",
       "                                             comment    theme  \\\n",
       "0           No complains on my part...so far so good  service   \n",
       "1  Good relationship with the staff. Talking poli...    staff   \n",
       "2  It also provides asset management and property...  service   \n",
       "3  Carol Wambugu is a very pleasant Customer serv...  service   \n",
       "4  Carol Wambugu is a very pleasant Customer serv...    staff   \n",
       "\n",
       "   theme_categories  \n",
       "0                 6  \n",
       "1                 8  \n",
       "2                 6  \n",
       "3                 6  \n",
       "4                 8  "
      ]
     },
     "execution_count": 4,
     "metadata": {},
     "output_type": "execute_result"
    }
   ],
   "source": [
    "#Add an extra column for themes as a category\n",
    "#Label encoding to represent each of the theme classes as numbers\n",
    "theme_categories = csvdata['theme'].astype('category') #1. We first convert the column into a category\n",
    "csvdata['theme_categories']  = theme_categories.cat.codes #2. assign the encoded variable to a new column using the cat.codes\n",
    "target_names = list(theme_categories.cat.categories)\n",
    "csvdata.head()"
   ]
  },
  {
   "cell_type": "code",
   "execution_count": 5,
   "metadata": {},
   "outputs": [
    {
     "data": {
      "text/plain": [
       "service             3394\n",
       "speed/efficiency    1890\n",
       "communication       1697\n",
       "policy              1079\n",
       "staff               1021\n",
       "product              646\n",
       "agents               316\n",
       "premiums             295\n",
       "claims               147\n",
       "Name: theme, dtype: int64"
      ]
     },
     "execution_count": 5,
     "metadata": {},
     "output_type": "execute_result"
    }
   ],
   "source": [
    "# df = pd.Series(csvdata)\n",
    "# df.describe()\n",
    "\n",
    "csvdata.describe()\n",
    "csvdata['theme'].value_counts()\n"
   ]
  },
  {
   "cell_type": "code",
   "execution_count": 6,
   "metadata": {},
   "outputs": [
    {
     "data": {
      "text/plain": [
       "(['agents',\n",
       "  'claims',\n",
       "  'communication',\n",
       "  'policy',\n",
       "  'premiums',\n",
       "  'product',\n",
       "  'service',\n",
       "  'speed/efficiency',\n",
       "  'staff'],\n",
       " 9)"
      ]
     },
     "execution_count": 6,
     "metadata": {},
     "output_type": "execute_result"
    }
   ],
   "source": [
    "target_names, len(target_names)"
   ]
  },
  {
   "cell_type": "code",
   "execution_count": 7,
   "metadata": {},
   "outputs": [],
   "source": [
    "processed_data = {}\n",
    "\n",
    "for row in csvdata.iterrows():\n",
    "    if row[1]['comment']  in processed_data.keys():  \n",
    "        processed_data[row[1]['comment']].append(row[1]['theme_categories'])\n",
    "    else:\n",
    "        processed_data[row[1]['comment']] = [row[1]['theme_categories']]\n",
    "        \n"
   ]
  },
  {
   "cell_type": "code",
   "execution_count": 8,
   "metadata": {},
   "outputs": [
    {
     "data": {
      "text/plain": [
       "(7000, 9)"
      ]
     },
     "execution_count": 8,
     "metadata": {},
     "output_type": "execute_result"
    }
   ],
   "source": [
    "my_data = {}\n",
    "my_data['data'] = processed_data.keys()\n",
    "my_data['target'] = processed_data.values()\n",
    "\n",
    "X = my_data['data']\n",
    "y = MultiLabelBinarizer().fit_transform(processed_data.values())\n",
    "y.shape\n"
   ]
  },
  {
   "cell_type": "code",
   "execution_count": 9,
   "metadata": {},
   "outputs": [],
   "source": [
    "X_train, X_test, y_train, y_test = train_test_split(X, y, test_size=0.30, random_state=42,shuffle=True )"
   ]
  },
  {
   "cell_type": "markdown",
   "metadata": {},
   "source": [
    "Try out some classifiers:\n",
    "1. Logistic Regression\n",
    "2. Random Forest\n",
    "3. SVM\n",
    "4. Multinomial Naives Bayes\n",
    "5. XGBoost\n",
    "\n",
    "### Logistic Regression Classifier"
   ]
  },
  {
   "cell_type": "code",
   "execution_count": 10,
   "metadata": {},
   "outputs": [
    {
     "name": "stdout",
     "output_type": "stream",
     "text": [
      "... Processing\n",
      "Test accuracy is 0.765238095238\n"
     ]
    }
   ],
   "source": [
    "from sklearn.linear_model import LogisticRegression\n",
    "\n",
    "LogReg_pipeline = Pipeline([\n",
    "                ('tfidf', TfidfVectorizer(stop_words=stop_words)),\n",
    "                ('clf', OneVsRestClassifier(LogisticRegression(solver='sag'), n_jobs=1)),\n",
    "            ])\n",
    "print('... Processing')\n",
    "LogReg_pipeline.fit(X_train, y_train)\n",
    "# compute the testing accuracy\n",
    "prediction = LogReg_pipeline.predict(X_test)\n",
    "print('Test accuracy is {}'.format(accuracy_score(y_test, prediction)))\n"
   ]
  },
  {
   "cell_type": "markdown",
   "metadata": {},
   "source": [
    "### Random Forest Classifier"
   ]
  },
  {
   "cell_type": "code",
   "execution_count": 11,
   "metadata": {},
   "outputs": [],
   "source": [
    "from sklearn.ensemble import RandomForestClassifier\n",
    "from sklearn.datasets import make_classification\n"
   ]
  },
  {
   "cell_type": "code",
   "execution_count": 12,
   "metadata": {},
   "outputs": [
    {
     "name": "stdout",
     "output_type": "stream",
     "text": [
      "... Processing\n",
      "Test accuracy is 0.852857142857\n"
     ]
    }
   ],
   "source": [
    "RandomForest_pipeline = Pipeline([\n",
    "                ('tfidf', TfidfVectorizer(stop_words=stop_words)),\n",
    "                ('clf', OneVsRestClassifier(RandomForestClassifier(max_depth=150, random_state=0), n_jobs=1)),\n",
    "            ])\n",
    "print('... Processing')\n",
    "RandomForest_pipeline.fit(X_train, y_train)\n",
    "# compute the testing accuracy\n",
    "prediction = RandomForest_pipeline.predict(X_test)\n",
    "print('Test accuracy is {}'.format(accuracy_score(y_test, prediction)))"
   ]
  },
  {
   "cell_type": "markdown",
   "metadata": {},
   "source": [
    "### SVM Classifier"
   ]
  },
  {
   "cell_type": "code",
   "execution_count": 13,
   "metadata": {},
   "outputs": [
    {
     "name": "stdout",
     "output_type": "stream",
     "text": [
      "... Processing\n",
      "Test accuracy is 0.0\n"
     ]
    }
   ],
   "source": [
    "from sklearn import svm\n",
    "\n",
    "SVM_pipeline = Pipeline([\n",
    "                ('tfidf', TfidfVectorizer(stop_words=stop_words)),\n",
    "                ('clf', OneVsRestClassifier(svm.SVC(decision_function_shape='ovr'), n_jobs=10)),\n",
    "            ])\n",
    "print('... Processing')\n",
    "SVM_pipeline.fit(X_train, y_train)\n",
    "# compute the testing accuracy\n",
    "prediction = SVM_pipeline.predict(X_test)\n",
    "print('Test accuracy is {}'.format(accuracy_score(y_test, prediction)))\n"
   ]
  },
  {
   "cell_type": "markdown",
   "metadata": {},
   "source": [
    "### Naives Bayes Classifier"
   ]
  },
  {
   "cell_type": "code",
   "execution_count": 14,
   "metadata": {},
   "outputs": [
    {
     "name": "stdout",
     "output_type": "stream",
     "text": [
      "... Processing\n",
      "Test accuracy is 0.438571428571\n"
     ]
    }
   ],
   "source": [
    "from sklearn.naive_bayes import MultinomialNB\n",
    "Naives_pipeline = Pipeline([\n",
    "                ('tfidf', TfidfVectorizer(stop_words=stop_words)),\n",
    "                ('clf', OneVsRestClassifier(MultinomialNB(), n_jobs=1)),\n",
    "            ])\n",
    "print('... Processing')\n",
    "Naives_pipeline.fit(X_train, y_train)\n",
    "# compute the testing accuracy\n",
    "prediction = Naives_pipeline.predict(X_test)\n",
    "print('Test accuracy is {}'.format(accuracy_score(y_test, prediction)))"
   ]
  },
  {
   "cell_type": "markdown",
   "metadata": {},
   "source": [
    "### XGBoost Classifier"
   ]
  },
  {
   "cell_type": "code",
   "execution_count": 15,
   "metadata": {},
   "outputs": [
    {
     "name": "stdout",
     "output_type": "stream",
     "text": [
      "... Processing\n",
      "Test accuracy is 0.910476190476\n"
     ]
    }
   ],
   "source": [
    "classes = len(csvdata['theme'].unique())#number of classes\n",
    "reg_lambda = 2 #XG Boost's L2 regularization term on weights, increasing it makes the model more conservative.default=1\n",
    "\n",
    "\n",
    "XGB_pipeline = Pipeline([\n",
    "                ('tfidf', TfidfVectorizer(stop_words=stop_words)),\n",
    "                ('clf', OneVsRestClassifier(\n",
    "                    XGBClassifier(                  \n",
    "                        objective = \"multi:softmax\", \n",
    "                        seed =27,\n",
    "                        reg_lambda=reg_lambda,\n",
    "                        num_class = classes\n",
    "                ), n_jobs=1)),\n",
    "            ])\n",
    "print('... Processing')\n",
    "XGB_pipeline.fit(X_train, y_train)\n",
    "# compute the testing accuracy\n",
    "prediction = XGB_pipeline.predict(X_test)\n",
    "print('Test accuracy is {}'.format(accuracy_score(y_test, prediction)))\n"
   ]
  },
  {
   "cell_type": "markdown",
   "metadata": {},
   "source": [
    "### Validation"
   ]
  },
  {
   "cell_type": "code",
   "execution_count": 16,
   "metadata": {},
   "outputs": [
    {
     "name": "stdout",
     "output_type": "stream",
     "text": [
      "XGBoost\n",
      "\n",
      "'Poor at customer service!! Call them for dispute resolution, and they in the middle of the convo, they hung up on you!!' ===> ['service']\n",
      "\n",
      "'claims (general)processing is shoddy!' ===> ['claims']\n",
      "\n",
      "'Do you have a funeral insurance cover, and how does it work.' ===> []\n",
      "\n",
      "'For education plan, how much am I supposed to pay monthly' ===> ['communication']\n",
      "\n",
      "'My claim has taken too long' ===> ['claims']\n",
      "\n",
      "'The agent lied to me' ===> ['agents']\n",
      "\n",
      "'Grace in Headoffice was really helpful' ===> ['staff']\n"
     ]
    }
   ],
   "source": [
    "#Validation using the best classifier \n",
    "comment1 = 'Poor at customer service!! Call them for dispute resolution, and they in the middle of the convo, they hung up on you!!' #\n",
    "comment2 = 'claims (general)processing is shoddy!'\n",
    "comment3 = 'Do you have a funeral insurance cover, and how does it work.'\n",
    "comment4 = 'For education plan, how much am I supposed to pay monthly'\n",
    "comment5 = 'My claim has taken too long'\n",
    "comment6 = \"The agent lied to me\"\n",
    "comment7 = 'Grace in Headoffice was really helpful'\n",
    "\n",
    "comments_new = [comment1,comment2,comment3,comment4, comment5, comment6,comment7]\n",
    "\n",
    "print('XGBoost')\n",
    "predicted = XGB_pipeline.predict(comments_new)\n",
    "predicted = pd.DataFrame(predicted, columns=target_names)\n",
    "   \n",
    "\n",
    "for tw, category in zip(comments_new, predicted.iterrows()):\n",
    "    themes=[]\n",
    "    for i in range(len(category[1])) :\n",
    "        if category[1][i] == 1:\n",
    "            themes.append(target_names[i])\n",
    "    print('\\n%r ===> %s' % (tw, themes))"
   ]
  },
  {
   "cell_type": "markdown",
   "metadata": {},
   "source": [
    "#### Model Persistence- Save the model for later\n"
   ]
  },
  {
   "cell_type": "code",
   "execution_count": 17,
   "metadata": {},
   "outputs": [],
   "source": [
    "filename = 'insurance.sav'\n",
    "pickle.dump(XGB_pipeline, open(filename, 'wb'))\n"
   ]
  },
  {
   "cell_type": "code",
   "execution_count": null,
   "metadata": {},
   "outputs": [],
   "source": []
  }
 ],
 "metadata": {
  "anaconda-cloud": {},
  "kernelspec": {
   "display_name": "Python 2",
   "language": "python",
   "name": "python2"
  },
  "language_info": {
   "codemirror_mode": {
    "name": "ipython",
    "version": 2
   },
   "file_extension": ".py",
   "mimetype": "text/x-python",
   "name": "python",
   "nbconvert_exporter": "python",
   "pygments_lexer": "ipython2",
   "version": "2.7.15"
  }
 },
 "nbformat": 4,
 "nbformat_minor": 1
}
