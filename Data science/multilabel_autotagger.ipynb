{
 "cells": [
  {
   "cell_type": "markdown",
   "metadata": {},
   "source": [
    "## Multi-Label Auto-Tagger\n",
    "\n",
    "### Automatic Comment tagging\n",
    "\n",
    "The purpose of this document is to create an automated tagging system that tags a comment as belonging to a small set of predetermined categories.\n",
    "Once comment can have multiple tags hence the multilabeling approach.\n",
    "\n",
    "\n",
    "Example: {'Fantastic meals....quite good service':['food','service']}\n"
   ]
  },
  {
   "cell_type": "code",
   "execution_count": 41,
   "metadata": {},
   "outputs": [],
   "source": [
    "###Importations\n",
    "import numpy as np\n",
    "import pandas as pd\n",
    "from sklearn.feature_extraction.text import CountVectorizer,TfidfTransformer\n",
    "from sklearn.utils import shuffle\n",
    "from sklearn import metrics\n",
    "\n",
    "from sklearn.feature_extraction.text import CountVectorizer\n",
    "from sklearn.feature_extraction.text import TfidfTransformer\n",
    "from sklearn.naive_bayes import MultinomialNB\n",
    "from sklearn.preprocessing import MultiLabelBinarizer\n",
    "\n",
    "import re\n",
    "import matplotlib\n",
    "import numpy as np\n",
    "import matplotlib.pyplot as plt\n",
    "import pandas as pd\n",
    "from sklearn.model_selection import train_test_split\n",
    "from sklearn.feature_extraction.text import TfidfVectorizer\n",
    "from sklearn.naive_bayes import MultinomialNB\n",
    "from sklearn.metrics import accuracy_score\n",
    "from sklearn.multiclass import OneVsRestClassifier\n",
    "from nltk.corpus import stopwords\n",
    "stop_words = set(stopwords.words('english'))\n",
    "from sklearn.svm import LinearSVC\n",
    "from sklearn.linear_model import LogisticRegression\n",
    "from sklearn.pipeline import Pipeline\n",
    "import seaborn as sns"
   ]
  },
  {
   "cell_type": "markdown",
   "metadata": {},
   "source": [
    "## Train"
   ]
  },
  {
   "cell_type": "markdown",
   "metadata": {},
   "source": [
    "#### a.) Load the Data"
   ]
  },
  {
   "cell_type": "code",
   "execution_count": 42,
   "metadata": {},
   "outputs": [
    {
     "data": {
      "text/html": [
       "<div>\n",
       "<style scoped>\n",
       "    .dataframe tbody tr th:only-of-type {\n",
       "        vertical-align: middle;\n",
       "    }\n",
       "\n",
       "    .dataframe tbody tr th {\n",
       "        vertical-align: top;\n",
       "    }\n",
       "\n",
       "    .dataframe thead th {\n",
       "        text-align: right;\n",
       "    }\n",
       "</style>\n",
       "<table border=\"1\" class=\"dataframe\">\n",
       "  <thead>\n",
       "    <tr style=\"text-align: right;\">\n",
       "      <th></th>\n",
       "      <th>phone</th>\n",
       "      <th>rating</th>\n",
       "      <th>cat</th>\n",
       "      <th>comment</th>\n",
       "      <th>amount</th>\n",
       "      <th>store</th>\n",
       "      <th>word</th>\n",
       "      <th>theme</th>\n",
       "    </tr>\n",
       "  </thead>\n",
       "  <tbody>\n",
       "    <tr>\n",
       "      <th>0</th>\n",
       "      <td>2.548000e+11</td>\n",
       "      <td>10</td>\n",
       "      <td>promoter</td>\n",
       "      <td>Fantastic meals....quite good service</td>\n",
       "      <td>1260</td>\n",
       "      <td>GARDEN CITY</td>\n",
       "      <td>meals</td>\n",
       "      <td>food</td>\n",
       "    </tr>\n",
       "    <tr>\n",
       "      <th>1</th>\n",
       "      <td>2.548000e+11</td>\n",
       "      <td>10</td>\n",
       "      <td>promoter</td>\n",
       "      <td>Fantastic meals....quite good service</td>\n",
       "      <td>1260</td>\n",
       "      <td>GARDEN CITY</td>\n",
       "      <td>service</td>\n",
       "      <td>service</td>\n",
       "    </tr>\n",
       "    <tr>\n",
       "      <th>2</th>\n",
       "      <td>2.548000e+11</td>\n",
       "      <td>10</td>\n",
       "      <td>promoter</td>\n",
       "      <td>Good service</td>\n",
       "      <td>900</td>\n",
       "      <td>ROSSLYN</td>\n",
       "      <td>service</td>\n",
       "      <td>service</td>\n",
       "    </tr>\n",
       "    <tr>\n",
       "      <th>3</th>\n",
       "      <td>2.548000e+11</td>\n",
       "      <td>10</td>\n",
       "      <td>promoter</td>\n",
       "      <td>Joseph is a cool guy his services are spending...</td>\n",
       "      <td>1330</td>\n",
       "      <td>-</td>\n",
       "      <td>joseph</td>\n",
       "      <td>HR</td>\n",
       "    </tr>\n",
       "    <tr>\n",
       "      <th>4</th>\n",
       "      <td>2.548000e+11</td>\n",
       "      <td>10</td>\n",
       "      <td>promoter</td>\n",
       "      <td>Joseph is a cool guy his services are spending...</td>\n",
       "      <td>1330</td>\n",
       "      <td>-</td>\n",
       "      <td>services</td>\n",
       "      <td>service</td>\n",
       "    </tr>\n",
       "  </tbody>\n",
       "</table>\n",
       "</div>"
      ],
      "text/plain": [
       "          phone rating       cat  \\\n",
       "0  2.548000e+11     10  promoter   \n",
       "1  2.548000e+11     10  promoter   \n",
       "2  2.548000e+11     10  promoter   \n",
       "3  2.548000e+11     10  promoter   \n",
       "4  2.548000e+11     10  promoter   \n",
       "\n",
       "                                             comment amount        store  \\\n",
       "0              Fantastic meals....quite good service   1260  GARDEN CITY   \n",
       "1              Fantastic meals....quite good service   1260  GARDEN CITY   \n",
       "2                                       Good service    900      ROSSLYN   \n",
       "3  Joseph is a cool guy his services are spending...   1330            -   \n",
       "4  Joseph is a cool guy his services are spending...   1330            -   \n",
       "\n",
       "       word    theme  \n",
       "0     meals     food  \n",
       "1   service  service  \n",
       "2   service  service  \n",
       "3    joseph       HR  \n",
       "4  services  service  "
      ]
     },
     "execution_count": 42,
     "metadata": {},
     "output_type": "execute_result"
    }
   ],
   "source": [
    "csvdata = pd.read_csv('datasets/Java-training-data_V1.csv')\n",
    "csvdata.head()"
   ]
  },
  {
   "cell_type": "code",
   "execution_count": 46,
   "metadata": {},
   "outputs": [
    {
     "data": {
      "text/html": [
       "<div>\n",
       "<style scoped>\n",
       "    .dataframe tbody tr th:only-of-type {\n",
       "        vertical-align: middle;\n",
       "    }\n",
       "\n",
       "    .dataframe tbody tr th {\n",
       "        vertical-align: top;\n",
       "    }\n",
       "\n",
       "    .dataframe thead th {\n",
       "        text-align: right;\n",
       "    }\n",
       "</style>\n",
       "<table border=\"1\" class=\"dataframe\">\n",
       "  <thead>\n",
       "    <tr style=\"text-align: right;\">\n",
       "      <th></th>\n",
       "      <th>phone</th>\n",
       "      <th>rating</th>\n",
       "      <th>cat</th>\n",
       "      <th>comment</th>\n",
       "      <th>amount</th>\n",
       "      <th>store</th>\n",
       "      <th>word</th>\n",
       "      <th>theme</th>\n",
       "      <th>theme_categories</th>\n",
       "    </tr>\n",
       "  </thead>\n",
       "  <tbody>\n",
       "    <tr>\n",
       "      <th>0</th>\n",
       "      <td>2.548000e+11</td>\n",
       "      <td>10</td>\n",
       "      <td>promoter</td>\n",
       "      <td>Fantastic meals....quite good service</td>\n",
       "      <td>1260</td>\n",
       "      <td>GARDEN CITY</td>\n",
       "      <td>meals</td>\n",
       "      <td>food</td>\n",
       "      <td>4</td>\n",
       "    </tr>\n",
       "    <tr>\n",
       "      <th>1</th>\n",
       "      <td>2.548000e+11</td>\n",
       "      <td>10</td>\n",
       "      <td>promoter</td>\n",
       "      <td>Fantastic meals....quite good service</td>\n",
       "      <td>1260</td>\n",
       "      <td>GARDEN CITY</td>\n",
       "      <td>service</td>\n",
       "      <td>service</td>\n",
       "      <td>9</td>\n",
       "    </tr>\n",
       "    <tr>\n",
       "      <th>2</th>\n",
       "      <td>2.548000e+11</td>\n",
       "      <td>10</td>\n",
       "      <td>promoter</td>\n",
       "      <td>Good service</td>\n",
       "      <td>900</td>\n",
       "      <td>ROSSLYN</td>\n",
       "      <td>service</td>\n",
       "      <td>service</td>\n",
       "      <td>9</td>\n",
       "    </tr>\n",
       "    <tr>\n",
       "      <th>3</th>\n",
       "      <td>2.548000e+11</td>\n",
       "      <td>10</td>\n",
       "      <td>promoter</td>\n",
       "      <td>Joseph is a cool guy his services are spending...</td>\n",
       "      <td>1330</td>\n",
       "      <td>-</td>\n",
       "      <td>joseph</td>\n",
       "      <td>HR</td>\n",
       "      <td>0</td>\n",
       "    </tr>\n",
       "    <tr>\n",
       "      <th>4</th>\n",
       "      <td>2.548000e+11</td>\n",
       "      <td>10</td>\n",
       "      <td>promoter</td>\n",
       "      <td>Joseph is a cool guy his services are spending...</td>\n",
       "      <td>1330</td>\n",
       "      <td>-</td>\n",
       "      <td>services</td>\n",
       "      <td>service</td>\n",
       "      <td>9</td>\n",
       "    </tr>\n",
       "  </tbody>\n",
       "</table>\n",
       "</div>"
      ],
      "text/plain": [
       "          phone rating       cat  \\\n",
       "0  2.548000e+11     10  promoter   \n",
       "1  2.548000e+11     10  promoter   \n",
       "2  2.548000e+11     10  promoter   \n",
       "3  2.548000e+11     10  promoter   \n",
       "4  2.548000e+11     10  promoter   \n",
       "\n",
       "                                             comment amount        store  \\\n",
       "0              Fantastic meals....quite good service   1260  GARDEN CITY   \n",
       "1              Fantastic meals....quite good service   1260  GARDEN CITY   \n",
       "2                                       Good service    900      ROSSLYN   \n",
       "3  Joseph is a cool guy his services are spending...   1330            -   \n",
       "4  Joseph is a cool guy his services are spending...   1330            -   \n",
       "\n",
       "       word    theme  theme_categories  \n",
       "0     meals     food                 4  \n",
       "1   service  service                 9  \n",
       "2   service  service                 9  \n",
       "3    joseph       HR                 0  \n",
       "4  services  service                 9  "
      ]
     },
     "execution_count": 46,
     "metadata": {},
     "output_type": "execute_result"
    }
   ],
   "source": [
    "#Add an extra column for themes as a category\n",
    "#Label encoding to represent each of the theme classes as numbers\n",
    "theme_categories = csvdata['theme'].astype('category') #1. We first convert the column into a category\n",
    "csvdata['theme_categories']  = theme_categories.cat.codes #2. assign the encoded variable to a new column using the cat.codes\n",
    "target_names = list(theme_categories.cat.categories)\n",
    "csvdata.head()"
   ]
  },
  {
   "cell_type": "code",
   "execution_count": 47,
   "metadata": {},
   "outputs": [
    {
     "data": {
      "text/plain": [
       "(['HR',\n",
       "  'IT',\n",
       "  'billing',\n",
       "  'drink',\n",
       "  'food',\n",
       "  'hygiene',\n",
       "  'menu',\n",
       "  'price',\n",
       "  'security',\n",
       "  'service',\n",
       "  'speed',\n",
       "  'staff'],\n",
       " 12)"
      ]
     },
     "execution_count": 47,
     "metadata": {},
     "output_type": "execute_result"
    }
   ],
   "source": [
    "target_names, len(target_names)"
   ]
  },
  {
   "cell_type": "code",
   "execution_count": 48,
   "metadata": {},
   "outputs": [],
   "source": [
    "processed_data = {}\n",
    "\n",
    "for row in csvdata.iterrows():\n",
    "    if row[1]['comment']  in processed_data.keys():  \n",
    "        processed_data[row[1]['comment']].append(row[1]['theme_categories'])\n",
    "    else:\n",
    "        processed_data[row[1]['comment']] = [row[1]['theme_categories']]\n",
    "        \n"
   ]
  },
  {
   "cell_type": "code",
   "execution_count": 49,
   "metadata": {},
   "outputs": [
    {
     "data": {
      "text/plain": [
       "(36013, 12)"
      ]
     },
     "execution_count": 49,
     "metadata": {},
     "output_type": "execute_result"
    }
   ],
   "source": [
    "y = MultiLabelBinarizer().fit_transform(processed_data.values())\n",
    "y.shape"
   ]
  },
  {
   "cell_type": "code",
   "execution_count": 50,
   "metadata": {},
   "outputs": [
    {
     "name": "stdout",
     "output_type": "stream",
     "text": [
      "... Processing\n",
      "Test accuracy is 0.928\n"
     ]
    }
   ],
   "source": [
    "LogReg_pipeline = Pipeline([\n",
    "                ('tfidf', TfidfVectorizer(stop_words=stop_words)),\n",
    "                ('clf', OneVsRestClassifier(LogisticRegression(solver='sag'), n_jobs=1)),\n",
    "            ])\n",
    "print('... Processing')\n",
    "LogReg_pipeline.fit(X_train, y_train)\n",
    "# compute the testing accuracy\n",
    "prediction = LogReg_pipeline.predict(X_test)\n",
    "print('Test accuracy is {}'.format(accuracy_score(y_test, prediction)))\n"
   ]
  },
  {
   "cell_type": "code",
   "execution_count": 51,
   "metadata": {},
   "outputs": [
    {
     "name": "stdout",
     "output_type": "stream",
     "text": [
      "\n",
      "'The hospitality of the staff is so welcoming and they are very knowledgeable and helpful with questions and directions' ===> ['HR']\n",
      "\n",
      "'Perfect location, stellar customer service, and the rooms - so quaint, lovely, and cozy! The food was also great' ===> ['food', 'service']\n",
      "\n",
      "'LOVE the coffee here! They also make a mean affogato. Its really fun to watch them actually roast their coffee in the back' ===> ['drink']\n"
     ]
    }
   ],
   "source": [
    "#Predicting Outcome\n",
    "comment1 = 'The hospitality of the staff is so welcoming and they are very knowledgeable and helpful with questions and directions' #\n",
    "comment2 = 'Perfect location, stellar customer service, and the rooms - so quaint, lovely, and cozy! The food was also great'\n",
    "comment3 = 'LOVE the coffee here! They also make a mean affogato. Its really fun to watch them actually roast their coffee in the back'\n",
    "\n",
    "comments_new = [comment1,comment2,comment3]\n",
    "\n",
    "\n",
    "predicted = LogReg_pipeline.predict(comments_new)\n",
    "predicted = pd.DataFrame(predicted, columns=target_names)\n",
    "\n",
    "predicted\n",
    "   \n",
    "\n",
    "for tw, category in zip(comments_new, predicted.iterrows()):\n",
    "    themes=[]\n",
    "    for i in range(len(a[1])) :\n",
    "        if category[1][i] == 1:\n",
    "            themes.append(target_names[i])\n",
    "    print('\\n%r ===> %s' % (tw, themes))\n"
   ]
  },
  {
   "cell_type": "code",
   "execution_count": null,
   "metadata": {},
   "outputs": [],
   "source": []
  }
 ],
 "metadata": {
  "anaconda-cloud": {},
  "kernelspec": {
   "display_name": "Python 2",
   "language": "python",
   "name": "python2"
  },
  "language_info": {
   "codemirror_mode": {
    "name": "ipython",
    "version": 2
   },
   "file_extension": ".py",
   "mimetype": "text/x-python",
   "name": "python",
   "nbconvert_exporter": "python",
   "pygments_lexer": "ipython2",
   "version": "2.7.15"
  }
 },
 "nbformat": 4,
 "nbformat_minor": 1
}
