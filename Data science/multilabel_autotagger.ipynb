{
 "cells": [
  {
   "cell_type": "markdown",
   "metadata": {},
   "source": [
    "## Multi-Label Auto-Tagger\n",
    "\n",
    "### Automatic Comment tagging\n",
    "\n",
    "The purpose of this document is to create an automated tagging system that tags a comment as belonging to a small set of predetermined categories.\n",
    "Once comment can have multiple tags hence the multilabeling approach.\n",
    "\n",
    "\n",
    "Example: {'Fantastic meals....quite good service':['food','service']}\n"
   ]
  },
  {
   "cell_type": "code",
   "execution_count": 1,
   "metadata": {},
   "outputs": [],
   "source": [
    "###Importations\n",
    "import numpy as np\n",
    "import pandas as pd\n",
    "from sklearn.feature_extraction.text import CountVectorizer,TfidfTransformer\n",
    "from sklearn.utils import shuffle\n",
    "from sklearn import metrics\n",
    "\n",
    "from sklearn.feature_extraction.text import CountVectorizer\n",
    "from sklearn.feature_extraction.text import TfidfTransformer\n",
    "from sklearn.naive_bayes import MultinomialNB\n",
    "from sklearn.preprocessing import MultiLabelBinarizer\n",
    "\n",
    "import re\n",
    "import matplotlib\n",
    "import numpy as np\n",
    "import matplotlib.pyplot as plt\n",
    "import pandas as pd\n",
    "from sklearn.model_selection import train_test_split\n",
    "from sklearn.feature_extraction.text import TfidfVectorizer\n",
    "from sklearn.naive_bayes import MultinomialNB\n",
    "from sklearn.metrics import accuracy_score\n",
    "from sklearn.multiclass import OneVsRestClassifier\n",
    "from nltk.corpus import stopwords\n",
    "stop_words = set(stopwords.words('english'))\n",
    "from sklearn.svm import LinearSVC\n",
    "from sklearn.linear_model import LogisticRegression\n",
    "from sklearn.pipeline import Pipeline\n",
    "import seaborn as sns"
   ]
  },
  {
   "cell_type": "markdown",
   "metadata": {},
   "source": [
    "## Train"
   ]
  },
  {
   "cell_type": "markdown",
   "metadata": {},
   "source": [
    "#### a.) Load the Data"
   ]
  },
  {
   "cell_type": "code",
   "execution_count": 42,
   "metadata": {},
   "outputs": [
    {
     "data": {
      "text/html": [
       "<div>\n",
       "<style scoped>\n",
       "    .dataframe tbody tr th:only-of-type {\n",
       "        vertical-align: middle;\n",
       "    }\n",
       "\n",
       "    .dataframe tbody tr th {\n",
       "        vertical-align: top;\n",
       "    }\n",
       "\n",
       "    .dataframe thead th {\n",
       "        text-align: right;\n",
       "    }\n",
       "</style>\n",
       "<table border=\"1\" class=\"dataframe\">\n",
       "  <thead>\n",
       "    <tr style=\"text-align: right;\">\n",
       "      <th></th>\n",
       "      <th>rating</th>\n",
       "      <th>cat</th>\n",
       "      <th>comment</th>\n",
       "      <th>amount</th>\n",
       "      <th>store</th>\n",
       "      <th>word</th>\n",
       "      <th>theme</th>\n",
       "    </tr>\n",
       "  </thead>\n",
       "  <tbody>\n",
       "    <tr>\n",
       "      <th>0</th>\n",
       "      <td>10</td>\n",
       "      <td>promoter</td>\n",
       "      <td>Fantastic meals....quite good service</td>\n",
       "      <td>1260</td>\n",
       "      <td>GARDEN CITY</td>\n",
       "      <td>meals</td>\n",
       "      <td>food</td>\n",
       "    </tr>\n",
       "    <tr>\n",
       "      <th>1</th>\n",
       "      <td>10</td>\n",
       "      <td>promoter</td>\n",
       "      <td>Fantastic meals....quite good service</td>\n",
       "      <td>1260</td>\n",
       "      <td>GARDEN CITY</td>\n",
       "      <td>service</td>\n",
       "      <td>service</td>\n",
       "    </tr>\n",
       "    <tr>\n",
       "      <th>2</th>\n",
       "      <td>10</td>\n",
       "      <td>promoter</td>\n",
       "      <td>Good service</td>\n",
       "      <td>900</td>\n",
       "      <td>ROSSLYN</td>\n",
       "      <td>service</td>\n",
       "      <td>service</td>\n",
       "    </tr>\n",
       "    <tr>\n",
       "      <th>3</th>\n",
       "      <td>10</td>\n",
       "      <td>promoter</td>\n",
       "      <td>Joseph is a cool guy his services are spending...</td>\n",
       "      <td>1330</td>\n",
       "      <td>-</td>\n",
       "      <td>joseph</td>\n",
       "      <td>HR</td>\n",
       "    </tr>\n",
       "    <tr>\n",
       "      <th>4</th>\n",
       "      <td>10</td>\n",
       "      <td>promoter</td>\n",
       "      <td>Joseph is a cool guy his services are spending...</td>\n",
       "      <td>1330</td>\n",
       "      <td>-</td>\n",
       "      <td>services</td>\n",
       "      <td>service</td>\n",
       "    </tr>\n",
       "  </tbody>\n",
       "</table>\n",
       "</div>"
      ],
      "text/plain": [
       "  rating       cat                                            comment amount  \\\n",
       "0     10  promoter              Fantastic meals....quite good service   1260   \n",
       "1     10  promoter              Fantastic meals....quite good service   1260   \n",
       "2     10  promoter                                       Good service    900   \n",
       "3     10  promoter  Joseph is a cool guy his services are spending...   1330   \n",
       "4     10  promoter  Joseph is a cool guy his services are spending...   1330   \n",
       "\n",
       "         store      word    theme  \n",
       "0  GARDEN CITY     meals     food  \n",
       "1  GARDEN CITY   service  service  \n",
       "2      ROSSLYN   service  service  \n",
       "3            -    joseph       HR  \n",
       "4            -  services  service  "
      ]
     },
     "execution_count": 42,
     "metadata": {},
     "output_type": "execute_result"
    }
   ],
   "source": [
    "csvdata = pd.read_csv('datasets/Java-training-data_V1.csv')\n",
    "csvdata.head()"
   ]
  },
  {
   "cell_type": "code",
   "execution_count": 43,
   "metadata": {},
   "outputs": [
    {
     "data": {
      "text/html": [
       "<div>\n",
       "<style scoped>\n",
       "    .dataframe tbody tr th:only-of-type {\n",
       "        vertical-align: middle;\n",
       "    }\n",
       "\n",
       "    .dataframe tbody tr th {\n",
       "        vertical-align: top;\n",
       "    }\n",
       "\n",
       "    .dataframe thead th {\n",
       "        text-align: right;\n",
       "    }\n",
       "</style>\n",
       "<table border=\"1\" class=\"dataframe\">\n",
       "  <thead>\n",
       "    <tr style=\"text-align: right;\">\n",
       "      <th></th>\n",
       "      <th>rating</th>\n",
       "      <th>cat</th>\n",
       "      <th>comment</th>\n",
       "      <th>amount</th>\n",
       "      <th>store</th>\n",
       "      <th>word</th>\n",
       "      <th>theme</th>\n",
       "      <th>theme_categories</th>\n",
       "    </tr>\n",
       "  </thead>\n",
       "  <tbody>\n",
       "    <tr>\n",
       "      <th>0</th>\n",
       "      <td>10</td>\n",
       "      <td>promoter</td>\n",
       "      <td>Fantastic meals....quite good service</td>\n",
       "      <td>1260</td>\n",
       "      <td>GARDEN CITY</td>\n",
       "      <td>meals</td>\n",
       "      <td>food</td>\n",
       "      <td>4</td>\n",
       "    </tr>\n",
       "    <tr>\n",
       "      <th>1</th>\n",
       "      <td>10</td>\n",
       "      <td>promoter</td>\n",
       "      <td>Fantastic meals....quite good service</td>\n",
       "      <td>1260</td>\n",
       "      <td>GARDEN CITY</td>\n",
       "      <td>service</td>\n",
       "      <td>service</td>\n",
       "      <td>9</td>\n",
       "    </tr>\n",
       "    <tr>\n",
       "      <th>2</th>\n",
       "      <td>10</td>\n",
       "      <td>promoter</td>\n",
       "      <td>Good service</td>\n",
       "      <td>900</td>\n",
       "      <td>ROSSLYN</td>\n",
       "      <td>service</td>\n",
       "      <td>service</td>\n",
       "      <td>9</td>\n",
       "    </tr>\n",
       "    <tr>\n",
       "      <th>3</th>\n",
       "      <td>10</td>\n",
       "      <td>promoter</td>\n",
       "      <td>Joseph is a cool guy his services are spending...</td>\n",
       "      <td>1330</td>\n",
       "      <td>-</td>\n",
       "      <td>joseph</td>\n",
       "      <td>HR</td>\n",
       "      <td>0</td>\n",
       "    </tr>\n",
       "    <tr>\n",
       "      <th>4</th>\n",
       "      <td>10</td>\n",
       "      <td>promoter</td>\n",
       "      <td>Joseph is a cool guy his services are spending...</td>\n",
       "      <td>1330</td>\n",
       "      <td>-</td>\n",
       "      <td>services</td>\n",
       "      <td>service</td>\n",
       "      <td>9</td>\n",
       "    </tr>\n",
       "  </tbody>\n",
       "</table>\n",
       "</div>"
      ],
      "text/plain": [
       "  rating       cat                                            comment amount  \\\n",
       "0     10  promoter              Fantastic meals....quite good service   1260   \n",
       "1     10  promoter              Fantastic meals....quite good service   1260   \n",
       "2     10  promoter                                       Good service    900   \n",
       "3     10  promoter  Joseph is a cool guy his services are spending...   1330   \n",
       "4     10  promoter  Joseph is a cool guy his services are spending...   1330   \n",
       "\n",
       "         store      word    theme  theme_categories  \n",
       "0  GARDEN CITY     meals     food                 4  \n",
       "1  GARDEN CITY   service  service                 9  \n",
       "2      ROSSLYN   service  service                 9  \n",
       "3            -    joseph       HR                 0  \n",
       "4            -  services  service                 9  "
      ]
     },
     "execution_count": 43,
     "metadata": {},
     "output_type": "execute_result"
    }
   ],
   "source": [
    "#Add an extra column for themes as a category\n",
    "#Label encoding to represent each of the theme classes as numbers\n",
    "theme_categories = csvdata['theme'].astype('category') #1. We first convert the column into a category\n",
    "csvdata['theme_categories']  = theme_categories.cat.codes #2. assign the encoded variable to a new column using the cat.codes\n",
    "target_names = list(theme_categories.cat.categories)\n",
    "csvdata.head()"
   ]
  },
  {
   "cell_type": "code",
   "execution_count": 44,
   "metadata": {},
   "outputs": [
    {
     "data": {
      "text/plain": [
       "service     36649\n",
       "food        19062\n",
       "HR          17293\n",
       "speed       10554\n",
       "drink        2698\n",
       "hygiene      1095\n",
       "IT            670\n",
       "menu          506\n",
       "price         447\n",
       "billing       302\n",
       "security       14\n",
       "Name: theme, dtype: int64"
      ]
     },
     "execution_count": 44,
     "metadata": {},
     "output_type": "execute_result"
    }
   ],
   "source": [
    "# df = pd.Series(csvdata)\n",
    "# df.describe()\n",
    "\n",
    "csvdata.describe()\n",
    "csvdata['theme'].value_counts()\n"
   ]
  },
  {
   "cell_type": "code",
   "execution_count": 45,
   "metadata": {},
   "outputs": [
    {
     "data": {
      "text/plain": [
       "(['HR',\n",
       "  'IT',\n",
       "  'billing',\n",
       "  'drink',\n",
       "  'food',\n",
       "  'hygiene',\n",
       "  'menu',\n",
       "  'price',\n",
       "  'security',\n",
       "  'service',\n",
       "  'speed'],\n",
       " 11)"
      ]
     },
     "execution_count": 45,
     "metadata": {},
     "output_type": "execute_result"
    }
   ],
   "source": [
    "target_names, len(target_names)"
   ]
  },
  {
   "cell_type": "code",
   "execution_count": 46,
   "metadata": {},
   "outputs": [],
   "source": [
    "processed_data = {}\n",
    "\n",
    "for row in csvdata.iterrows():\n",
    "    if row[1]['comment']  in processed_data.keys():  \n",
    "        processed_data[row[1]['comment']].append(row[1]['theme_categories'])\n",
    "    else:\n",
    "        processed_data[row[1]['comment']] = [row[1]['theme_categories']]\n",
    "        \n"
   ]
  },
  {
   "cell_type": "code",
   "execution_count": 47,
   "metadata": {},
   "outputs": [
    {
     "data": {
      "text/plain": [
       "(36013, 11)"
      ]
     },
     "execution_count": 47,
     "metadata": {},
     "output_type": "execute_result"
    }
   ],
   "source": [
    "my_data = {}\n",
    "my_data['data'] = processed_data.keys()\n",
    "my_data['target'] = processed_data.values()\n",
    "\n",
    "X = my_data['data']\n",
    "y = MultiLabelBinarizer().fit_transform(processed_data.values())\n",
    "y.shape\n"
   ]
  },
  {
   "cell_type": "code",
   "execution_count": 53,
   "metadata": {},
   "outputs": [],
   "source": [
    "\n",
    "\n",
    "# X_train = pd.Series(X[:-1000])\n",
    "# y_train = y[:-1000]\n",
    "\n",
    "# X_test = pd.Series(X[-1000:])\n",
    "# y_test = y[-1000:]\n",
    "\n",
    "X_train, X_test, y_train, y_test = train_test_split(X, y, test_size=0.30, random_state=42,shuffle=True )"
   ]
  },
  {
   "cell_type": "code",
   "execution_count": 54,
   "metadata": {},
   "outputs": [],
   "source": [
    "#y_train"
   ]
  },
  {
   "cell_type": "code",
   "execution_count": 55,
   "metadata": {},
   "outputs": [],
   "source": [
    "# import seaborn as sns\n",
    "# sns.set_style(\"whitegrid\")\n",
    "# ytrain = sns.load_dataset(y_train)\n",
    "# #ax = sns.boxplot(x=tips[\"total_bill\"])"
   ]
  },
  {
   "cell_type": "code",
   "execution_count": 56,
   "metadata": {},
   "outputs": [
    {
     "name": "stdout",
     "output_type": "stream",
     "text": [
      "... Processing\n",
      "Test accuracy is 0.902350981118\n"
     ]
    }
   ],
   "source": [
    "LogReg_pipeline = Pipeline([\n",
    "                ('tfidf', TfidfVectorizer(stop_words=stop_words)),\n",
    "                ('clf', OneVsRestClassifier(LogisticRegression(solver='sag'), n_jobs=1)),\n",
    "            ])\n",
    "print('... Processing')\n",
    "LogReg_pipeline.fit(X_train, y_train)\n",
    "# compute the testing accuracy\n",
    "prediction = LogReg_pipeline.predict(X_test)\n",
    "print('Test accuracy is {}'.format(accuracy_score(y_test, prediction)))\n"
   ]
  },
  {
   "cell_type": "code",
   "execution_count": null,
   "metadata": {},
   "outputs": [],
   "source": []
  },
  {
   "cell_type": "code",
   "execution_count": 60,
   "metadata": {},
   "outputs": [
    {
     "name": "stdout",
     "output_type": "stream",
     "text": [
      "\n",
      "'The hospitality of the staff is so welcoming and they are very knowledgeable and helpful with questions and directions' ===> ['HR']\n",
      "\n",
      "'Perfect location, stellar customer service, and the rooms - so quaint, lovely, and cozy! The food was also great' ===> ['food', 'service']\n",
      "\n",
      "'LOVE the coffee here! They also make a mean affogato. Its really fun to watch them actually roast their coffee in the back' ===> ['drink']\n",
      "\n",
      "'Wide variety of flavours, clean comfortable space' ===> ['hygiene']\n",
      "\n",
      "'cynthia brought my bill late' ===> ['HR', 'billing']\n",
      "\n",
      "'Quality coffee and good service' ===> ['drink', 'service']\n"
     ]
    }
   ],
   "source": [
    "#Validation\n",
    "comment1 = 'The hospitality of the staff is so welcoming and they are very knowledgeable and helpful with questions and directions' #\n",
    "comment2 = 'Perfect location, stellar customer service, and the rooms - so quaint, lovely, and cozy! The food was also great'\n",
    "comment3 = 'LOVE the coffee here! They also make a mean affogato. Its really fun to watch them actually roast their coffee in the back'\n",
    "comment4 = 'Wide variety of flavours, clean comfortable space'\n",
    "comment5 = 'cynthia brought my bill late'\n",
    "comment6 = \"Quality coffee and good service\"\n",
    "\n",
    "\n",
    "comments_new = [comment1,comment2,comment3,comment4, comment5, comment6]\n",
    "\n",
    "\n",
    "predicted = LogReg_pipeline.predict(comments_new)\n",
    "predicted = pd.DataFrame(predicted, columns=target_names)\n",
    "\n",
    "predicted\n",
    "   \n",
    "\n",
    "for tw, category in zip(comments_new, predicted.iterrows()):\n",
    "    themes=[]\n",
    "    for i in range(len(category[1])) :\n",
    "        if category[1][i] == 1:\n",
    "            themes.append(target_names[i])\n",
    "    print('\\n%r ===> %s' % (tw, themes))\n"
   ]
  },
  {
   "cell_type": "code",
   "execution_count": null,
   "metadata": {},
   "outputs": [],
   "source": []
  }
 ],
 "metadata": {
  "anaconda-cloud": {},
  "kernelspec": {
   "display_name": "Python 2",
   "language": "python",
   "name": "python2"
  },
  "language_info": {
   "codemirror_mode": {
    "name": "ipython",
    "version": 2
   },
   "file_extension": ".py",
   "mimetype": "text/x-python",
   "name": "python",
   "nbconvert_exporter": "python",
   "pygments_lexer": "ipython2",
   "version": "2.7.15"
  }
 },
 "nbformat": 4,
 "nbformat_minor": 1
}
