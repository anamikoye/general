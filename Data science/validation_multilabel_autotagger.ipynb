{
 "cells": [
  {
   "cell_type": "markdown",
   "metadata": {},
   "source": [
    "## Validation: Multi-Label  Automatic Comment tagging\n",
    "\n",
    "The purpose of this document is to compare the results of automatic tagging with that of a human annotator.\n",
    "\n",
    "This comparison is achieved in three steps:\n",
    "1. Human-annotated comments and themes are loaded\n",
    "2. Use saved model to annotate comments automatically\n",
    "3. Compare 1 and 2 above"
   ]
  },
  {
   "cell_type": "markdown",
   "metadata": {},
   "source": [
    "#### 1.) Load Human annotated  Data"
   ]
  },
  {
   "cell_type": "code",
   "execution_count": 167,
   "metadata": {},
   "outputs": [
    {
     "data": {
      "text/html": [
       "<div>\n",
       "<style scoped>\n",
       "    .dataframe tbody tr th:only-of-type {\n",
       "        vertical-align: middle;\n",
       "    }\n",
       "\n",
       "    .dataframe tbody tr th {\n",
       "        vertical-align: top;\n",
       "    }\n",
       "\n",
       "    .dataframe thead th {\n",
       "        text-align: right;\n",
       "    }\n",
       "</style>\n",
       "<table border=\"1\" class=\"dataframe\">\n",
       "  <thead>\n",
       "    <tr style=\"text-align: right;\">\n",
       "      <th></th>\n",
       "      <th>userId</th>\n",
       "      <th>source</th>\n",
       "      <th>comment</th>\n",
       "      <th>theme</th>\n",
       "    </tr>\n",
       "  </thead>\n",
       "  <tbody>\n",
       "    <tr>\n",
       "      <th>0</th>\n",
       "      <td>2.547280e+11</td>\n",
       "      <td>PY</td>\n",
       "      <td>At least have customers care attendant to i...</td>\n",
       "      <td>HR</td>\n",
       "    </tr>\n",
       "    <tr>\n",
       "      <th>1</th>\n",
       "      <td>2.547280e+11</td>\n",
       "      <td>PY</td>\n",
       "      <td>At least have customers care attendant to i...</td>\n",
       "      <td>service</td>\n",
       "    </tr>\n",
       "    <tr>\n",
       "      <th>2</th>\n",
       "      <td>2.547170e+11</td>\n",
       "      <td>PY</td>\n",
       "      <td>Friendly  service  n. This is a unique disp...</td>\n",
       "      <td>food</td>\n",
       "    </tr>\n",
       "    <tr>\n",
       "      <th>3</th>\n",
       "      <td>2.547170e+11</td>\n",
       "      <td>PY</td>\n",
       "      <td>Friendly  service  n. This is a unique disp...</td>\n",
       "      <td>service</td>\n",
       "    </tr>\n",
       "    <tr>\n",
       "      <th>4</th>\n",
       "      <td>2.547220e+11</td>\n",
       "      <td>java</td>\n",
       "      <td>Good service from Francis</td>\n",
       "      <td>HR</td>\n",
       "    </tr>\n",
       "  </tbody>\n",
       "</table>\n",
       "</div>"
      ],
      "text/plain": [
       "         userId source                                            comment  \\\n",
       "0  2.547280e+11     PY     At least have customers care attendant to i...   \n",
       "1  2.547280e+11     PY     At least have customers care attendant to i...   \n",
       "2  2.547170e+11     PY     Friendly  service  n. This is a unique disp...   \n",
       "3  2.547170e+11     PY     Friendly  service  n. This is a unique disp...   \n",
       "4  2.547220e+11   java                          Good service from Francis   \n",
       "\n",
       "     theme  \n",
       "0       HR  \n",
       "1  service  \n",
       "2     food  \n",
       "3  service  \n",
       "4       HR  "
      ]
     },
     "execution_count": 167,
     "metadata": {},
     "output_type": "execute_result"
    }
   ],
   "source": [
    "csvdata = pd.read_csv('datasets/Java-validationSet_v2.csv')\n",
    "csvdata.head()"
   ]
  },
  {
   "cell_type": "code",
   "execution_count": 168,
   "metadata": {},
   "outputs": [
    {
     "data": {
      "text/plain": [
       "(7653, 4)"
      ]
     },
     "execution_count": 168,
     "metadata": {},
     "output_type": "execute_result"
    }
   ],
   "source": [
    "csvdata.shape"
   ]
  },
  {
   "cell_type": "code",
   "execution_count": 169,
   "metadata": {},
   "outputs": [
    {
     "data": {
      "text/html": [
       "<div>\n",
       "<style scoped>\n",
       "    .dataframe tbody tr th:only-of-type {\n",
       "        vertical-align: middle;\n",
       "    }\n",
       "\n",
       "    .dataframe tbody tr th {\n",
       "        vertical-align: top;\n",
       "    }\n",
       "\n",
       "    .dataframe thead th {\n",
       "        text-align: right;\n",
       "    }\n",
       "</style>\n",
       "<table border=\"1\" class=\"dataframe\">\n",
       "  <thead>\n",
       "    <tr style=\"text-align: right;\">\n",
       "      <th></th>\n",
       "      <th>userId</th>\n",
       "      <th>source</th>\n",
       "      <th>comment</th>\n",
       "      <th>theme</th>\n",
       "      <th>theme_categories</th>\n",
       "    </tr>\n",
       "  </thead>\n",
       "  <tbody>\n",
       "    <tr>\n",
       "      <th>0</th>\n",
       "      <td>2.547280e+11</td>\n",
       "      <td>PY</td>\n",
       "      <td>At least have customers care attendant to i...</td>\n",
       "      <td>HR</td>\n",
       "      <td>0</td>\n",
       "    </tr>\n",
       "    <tr>\n",
       "      <th>1</th>\n",
       "      <td>2.547280e+11</td>\n",
       "      <td>PY</td>\n",
       "      <td>At least have customers care attendant to i...</td>\n",
       "      <td>service</td>\n",
       "      <td>8</td>\n",
       "    </tr>\n",
       "    <tr>\n",
       "      <th>2</th>\n",
       "      <td>2.547170e+11</td>\n",
       "      <td>PY</td>\n",
       "      <td>Friendly  service  n. This is a unique disp...</td>\n",
       "      <td>food</td>\n",
       "      <td>4</td>\n",
       "    </tr>\n",
       "    <tr>\n",
       "      <th>3</th>\n",
       "      <td>2.547170e+11</td>\n",
       "      <td>PY</td>\n",
       "      <td>Friendly  service  n. This is a unique disp...</td>\n",
       "      <td>service</td>\n",
       "      <td>8</td>\n",
       "    </tr>\n",
       "    <tr>\n",
       "      <th>4</th>\n",
       "      <td>2.547220e+11</td>\n",
       "      <td>java</td>\n",
       "      <td>Good service from Francis</td>\n",
       "      <td>HR</td>\n",
       "      <td>0</td>\n",
       "    </tr>\n",
       "  </tbody>\n",
       "</table>\n",
       "</div>"
      ],
      "text/plain": [
       "         userId source                                            comment  \\\n",
       "0  2.547280e+11     PY     At least have customers care attendant to i...   \n",
       "1  2.547280e+11     PY     At least have customers care attendant to i...   \n",
       "2  2.547170e+11     PY     Friendly  service  n. This is a unique disp...   \n",
       "3  2.547170e+11     PY     Friendly  service  n. This is a unique disp...   \n",
       "4  2.547220e+11   java                          Good service from Francis   \n",
       "\n",
       "     theme  theme_categories  \n",
       "0       HR                 0  \n",
       "1  service                 8  \n",
       "2     food                 4  \n",
       "3  service                 8  \n",
       "4       HR                 0  "
      ]
     },
     "execution_count": 169,
     "metadata": {},
     "output_type": "execute_result"
    }
   ],
   "source": [
    "#Add an extra column for themes as a category\n",
    "#Label encoding to represent each of the theme classes as numbers\n",
    "theme_categories = csvdata['theme'].astype('category') #1. We first convert the column into a category\n",
    "csvdata['theme_categories']  = theme_categories.cat.codes #2. assign the encoded variable to a new column using the cat.codes\n",
    "target_names = list(theme_categories.cat.categories)\n",
    "csvdata.head()"
   ]
  },
  {
   "cell_type": "code",
   "execution_count": 170,
   "metadata": {},
   "outputs": [
    {
     "data": {
      "text/plain": [
       "service    2517\n",
       "food       2412\n",
       "HR         1110\n",
       "speed       601\n",
       "hygiene     413\n",
       "price       312\n",
       "drink       180\n",
       "billing      47\n",
       "IT           36\n",
       "menu         25\n",
       "Name: theme, dtype: int64"
      ]
     },
     "execution_count": 170,
     "metadata": {},
     "output_type": "execute_result"
    }
   ],
   "source": [
    "csvdata.describe()\n",
    "csvdata['theme'].value_counts()\n"
   ]
  },
  {
   "cell_type": "code",
   "execution_count": 171,
   "metadata": {},
   "outputs": [
    {
     "data": {
      "text/plain": [
       "(['HR',\n",
       "  'IT',\n",
       "  'billing',\n",
       "  'drink',\n",
       "  'food',\n",
       "  'hygiene',\n",
       "  'menu',\n",
       "  'price',\n",
       "  'service',\n",
       "  'speed'],\n",
       " 10)"
      ]
     },
     "execution_count": 171,
     "metadata": {},
     "output_type": "execute_result"
    }
   ],
   "source": [
    "target_names, len(target_names)"
   ]
  },
  {
   "cell_type": "code",
   "execution_count": 172,
   "metadata": {},
   "outputs": [],
   "source": [
    "processed_data = {}\n",
    "\n",
    "for row in csvdata.iterrows():\n",
    "    if row[1]['comment']  in processed_data.keys():  \n",
    "        processed_data[row[1]['comment']].append(row[1]['theme_categories'])\n",
    "    else:\n",
    "        processed_data[row[1]['comment']] = [row[1]['theme_categories']]\n",
    "        \n"
   ]
  },
  {
   "cell_type": "code",
   "execution_count": 173,
   "metadata": {},
   "outputs": [
    {
     "data": {
      "text/plain": [
       "(4769, 10)"
      ]
     },
     "execution_count": 173,
     "metadata": {},
     "output_type": "execute_result"
    }
   ],
   "source": [
    "my_data = {}\n",
    "my_data['data'] = processed_data.keys()\n",
    "my_data['target'] = processed_data.values()\n",
    "\n",
    "X = my_data['data']\n",
    "y = MultiLabelBinarizer().fit_transform(processed_data.values())\n",
    "y.shape\n"
   ]
  },
  {
   "cell_type": "code",
   "execution_count": 174,
   "metadata": {},
   "outputs": [],
   "source": [
    "#Match the number of columns in the two sets.\n",
    "#Sometimes the validation set doesnt have data in all the columns. In this case it is missing the security column\n",
    "\n",
    "#New dataset l\n",
    "b = np.zeros((4769,11)) #Create a matrix of zeros with the default size\n",
    "b[:,:8] = y[:,:8]\n",
    "b[:,-2:] = y[:,-2:]\n",
    "y=b"
   ]
  },
  {
   "cell_type": "code",
   "execution_count": 175,
   "metadata": {},
   "outputs": [
    {
     "data": {
      "text/plain": [
       "(4769, 11)"
      ]
     },
     "execution_count": 175,
     "metadata": {},
     "output_type": "execute_result"
    }
   ],
   "source": [
    "y.shape"
   ]
  },
  {
   "cell_type": "markdown",
   "metadata": {},
   "source": [
    "#### 2.) Use saved model for automated annotation"
   ]
  },
  {
   "cell_type": "code",
   "execution_count": 177,
   "metadata": {},
   "outputs": [
    {
     "data": {
      "text/plain": [
       "(4769, 11)"
      ]
     },
     "execution_count": 177,
     "metadata": {},
     "output_type": "execute_result"
    }
   ],
   "source": [
    "import pickle\n",
    "\n",
    "filename = \"LogReg.sav\"\n",
    "# load the model from disk\n",
    "loaded_model = pickle.load(open(filename, 'rb'))\n",
    "result = loaded_model.predict(processed_data.keys())\n",
    "result.shape"
   ]
  },
  {
   "cell_type": "markdown",
   "metadata": {},
   "source": [
    "#### 3.) Compare human and computer annotations\n"
   ]
  },
  {
   "cell_type": "code",
   "execution_count": 154,
   "metadata": {},
   "outputs": [
    {
     "data": {
      "text/plain": [
       "array([[ 920,    4,    6,    4,   59,   12,    0,   39,   15,   17],\n",
       "       [   1,   16,    0,    0,    0,    0,    0,    0,    0,    0],\n",
       "       [   0,    0,    4,    0,    0,    0,    0,    0,    0,    0],\n",
       "       [   6,    0,    0,   74,    8,    1,    0,    0,    0,    0],\n",
       "       [  77,    5,    9,   63, 1852,    4,    1,   62,    3,    4],\n",
       "       [   5,    0,    0,    2,    8,  129,    0,    0,    0,    0],\n",
       "       [   0,    0,    0,    1,    1,    0,    6,    0,    0,    0],\n",
       "       [   0,    0,    4,    0,    2,    1,    0,   79,    2,    0],\n",
       "       [ 100,    2,    8,    5,   78,   20,    0,   17,  972,   25],\n",
       "       [   1,    0,    1,    0,    0,    0,    0,    0,    0,   34]])"
      ]
     },
     "execution_count": 154,
     "metadata": {},
     "output_type": "execute_result"
    }
   ],
   "source": [
    "from sklearn.metrics import confusion_matrix\n",
    "conf_matrix = confusion_matrix(result.argmax(axis=1), y.argmax(axis=1))\n",
    "conf_matrix"
   ]
  },
  {
   "cell_type": "code",
   "execution_count": 155,
   "metadata": {},
   "outputs": [
    {
     "data": {
      "text/plain": [
       "(10, 10)"
      ]
     },
     "execution_count": 155,
     "metadata": {},
     "output_type": "execute_result"
    }
   ],
   "source": [
    "conf_matrix.shape"
   ]
  },
  {
   "cell_type": "code",
   "execution_count": 156,
   "metadata": {},
   "outputs": [
    {
     "data": {
      "text/html": [
       "<div>\n",
       "<style scoped>\n",
       "    .dataframe tbody tr th:only-of-type {\n",
       "        vertical-align: middle;\n",
       "    }\n",
       "\n",
       "    .dataframe tbody tr th {\n",
       "        vertical-align: top;\n",
       "    }\n",
       "\n",
       "    .dataframe thead th {\n",
       "        text-align: right;\n",
       "    }\n",
       "</style>\n",
       "<table border=\"1\" class=\"dataframe\">\n",
       "  <thead>\n",
       "    <tr style=\"text-align: right;\">\n",
       "      <th></th>\n",
       "      <th>0</th>\n",
       "      <th>1</th>\n",
       "      <th>2</th>\n",
       "      <th>3</th>\n",
       "      <th>4</th>\n",
       "      <th>5</th>\n",
       "      <th>6</th>\n",
       "      <th>7</th>\n",
       "      <th>8</th>\n",
       "      <th>9</th>\n",
       "    </tr>\n",
       "  </thead>\n",
       "  <tbody>\n",
       "    <tr>\n",
       "      <th>0</th>\n",
       "      <td>920</td>\n",
       "      <td>4</td>\n",
       "      <td>6</td>\n",
       "      <td>4</td>\n",
       "      <td>59</td>\n",
       "      <td>12</td>\n",
       "      <td>0</td>\n",
       "      <td>39</td>\n",
       "      <td>15</td>\n",
       "      <td>17</td>\n",
       "    </tr>\n",
       "    <tr>\n",
       "      <th>1</th>\n",
       "      <td>1</td>\n",
       "      <td>16</td>\n",
       "      <td>0</td>\n",
       "      <td>0</td>\n",
       "      <td>0</td>\n",
       "      <td>0</td>\n",
       "      <td>0</td>\n",
       "      <td>0</td>\n",
       "      <td>0</td>\n",
       "      <td>0</td>\n",
       "    </tr>\n",
       "    <tr>\n",
       "      <th>2</th>\n",
       "      <td>0</td>\n",
       "      <td>0</td>\n",
       "      <td>4</td>\n",
       "      <td>0</td>\n",
       "      <td>0</td>\n",
       "      <td>0</td>\n",
       "      <td>0</td>\n",
       "      <td>0</td>\n",
       "      <td>0</td>\n",
       "      <td>0</td>\n",
       "    </tr>\n",
       "    <tr>\n",
       "      <th>3</th>\n",
       "      <td>6</td>\n",
       "      <td>0</td>\n",
       "      <td>0</td>\n",
       "      <td>74</td>\n",
       "      <td>8</td>\n",
       "      <td>1</td>\n",
       "      <td>0</td>\n",
       "      <td>0</td>\n",
       "      <td>0</td>\n",
       "      <td>0</td>\n",
       "    </tr>\n",
       "    <tr>\n",
       "      <th>4</th>\n",
       "      <td>77</td>\n",
       "      <td>5</td>\n",
       "      <td>9</td>\n",
       "      <td>63</td>\n",
       "      <td>1852</td>\n",
       "      <td>4</td>\n",
       "      <td>1</td>\n",
       "      <td>62</td>\n",
       "      <td>3</td>\n",
       "      <td>4</td>\n",
       "    </tr>\n",
       "    <tr>\n",
       "      <th>5</th>\n",
       "      <td>5</td>\n",
       "      <td>0</td>\n",
       "      <td>0</td>\n",
       "      <td>2</td>\n",
       "      <td>8</td>\n",
       "      <td>129</td>\n",
       "      <td>0</td>\n",
       "      <td>0</td>\n",
       "      <td>0</td>\n",
       "      <td>0</td>\n",
       "    </tr>\n",
       "    <tr>\n",
       "      <th>6</th>\n",
       "      <td>0</td>\n",
       "      <td>0</td>\n",
       "      <td>0</td>\n",
       "      <td>1</td>\n",
       "      <td>1</td>\n",
       "      <td>0</td>\n",
       "      <td>6</td>\n",
       "      <td>0</td>\n",
       "      <td>0</td>\n",
       "      <td>0</td>\n",
       "    </tr>\n",
       "    <tr>\n",
       "      <th>7</th>\n",
       "      <td>0</td>\n",
       "      <td>0</td>\n",
       "      <td>4</td>\n",
       "      <td>0</td>\n",
       "      <td>2</td>\n",
       "      <td>1</td>\n",
       "      <td>0</td>\n",
       "      <td>79</td>\n",
       "      <td>2</td>\n",
       "      <td>0</td>\n",
       "    </tr>\n",
       "    <tr>\n",
       "      <th>8</th>\n",
       "      <td>100</td>\n",
       "      <td>2</td>\n",
       "      <td>8</td>\n",
       "      <td>5</td>\n",
       "      <td>78</td>\n",
       "      <td>20</td>\n",
       "      <td>0</td>\n",
       "      <td>17</td>\n",
       "      <td>972</td>\n",
       "      <td>25</td>\n",
       "    </tr>\n",
       "    <tr>\n",
       "      <th>9</th>\n",
       "      <td>1</td>\n",
       "      <td>0</td>\n",
       "      <td>1</td>\n",
       "      <td>0</td>\n",
       "      <td>0</td>\n",
       "      <td>0</td>\n",
       "      <td>0</td>\n",
       "      <td>0</td>\n",
       "      <td>0</td>\n",
       "      <td>34</td>\n",
       "    </tr>\n",
       "  </tbody>\n",
       "</table>\n",
       "</div>"
      ],
      "text/plain": [
       "     0   1  2   3     4    5  6   7    8   9\n",
       "0  920   4  6   4    59   12  0  39   15  17\n",
       "1    1  16  0   0     0    0  0   0    0   0\n",
       "2    0   0  4   0     0    0  0   0    0   0\n",
       "3    6   0  0  74     8    1  0   0    0   0\n",
       "4   77   5  9  63  1852    4  1  62    3   4\n",
       "5    5   0  0   2     8  129  0   0    0   0\n",
       "6    0   0  0   1     1    0  6   0    0   0\n",
       "7    0   0  4   0     2    1  0  79    2   0\n",
       "8  100   2  8   5    78   20  0  17  972  25\n",
       "9    1   0  1   0     0    0  0   0    0  34"
      ]
     },
     "execution_count": 156,
     "metadata": {},
     "output_type": "execute_result"
    }
   ],
   "source": [
    "#Create a dataframe from the confusion matrix\n",
    "df = pd.DataFrame(conf_matrix)\n",
    "df"
   ]
  },
  {
   "cell_type": "code",
   "execution_count": 157,
   "metadata": {},
   "outputs": [
    {
     "data": {
      "text/plain": [
       "0    1110\n",
       "1      27\n",
       "2      32\n",
       "3     149\n",
       "4    2008\n",
       "5     167\n",
       "6       7\n",
       "7     197\n",
       "8     992\n",
       "9      80\n",
       "dtype: int64"
      ]
     },
     "execution_count": 157,
     "metadata": {},
     "output_type": "execute_result"
    }
   ],
   "source": [
    "#Calculate the sum across columns\n",
    "column_sums = df.sum(axis=0)\n",
    "column_sums"
   ]
  },
  {
   "cell_type": "code",
   "execution_count": 158,
   "metadata": {},
   "outputs": [
    {
     "data": {
      "text/plain": [
       "0    1076\n",
       "1      17\n",
       "2       4\n",
       "3      89\n",
       "4    2080\n",
       "5     144\n",
       "6       8\n",
       "7      88\n",
       "8    1227\n",
       "9      36\n",
       "dtype: int64"
      ]
     },
     "execution_count": 158,
     "metadata": {},
     "output_type": "execute_result"
    }
   ],
   "source": [
    "#Calculate the sum across rows\n",
    "row_sums = df.sum(axis=1)\n",
    "row_sums"
   ]
  },
  {
   "cell_type": "code",
   "execution_count": 159,
   "metadata": {},
   "outputs": [
    {
     "data": {
      "text/plain": [
       "4086"
      ]
     },
     "execution_count": 159,
     "metadata": {},
     "output_type": "execute_result"
    }
   ],
   "source": [
    "#Calculate observed agreement by doing sum across the diagonal\n",
    "diagonal_sum = conf_matrix.diagonal().sum()\n",
    "diagonal_sum"
   ]
  },
  {
   "cell_type": "code",
   "execution_count": 160,
   "metadata": {},
   "outputs": [
    {
     "data": {
      "text/plain": [
       "4769"
      ]
     },
     "execution_count": 160,
     "metadata": {},
     "output_type": "execute_result"
    }
   ],
   "source": [
    "#Calculate sum of the entire dataframe\n",
    "entire_df_sum = conf_matrix.sum()\n",
    "entire_df_sum"
   ]
  },
  {
   "cell_type": "code",
   "execution_count": 161,
   "metadata": {},
   "outputs": [
    {
     "data": {
      "text/plain": [
       "0.8567833927448102"
      ]
     },
     "execution_count": 161,
     "metadata": {},
     "output_type": "execute_result"
    }
   ],
   "source": [
    "from __future__ import division\n",
    "po = float(diagonal_sum/entire_df_sum)\n",
    "po"
   ]
  },
  {
   "cell_type": "code",
   "execution_count": 162,
   "metadata": {},
   "outputs": [],
   "source": [
    "lista = map(lambda x:x/entire_df_sum,row_sums)\n",
    "listb = map(lambda x:x/entire_df_sum,column_sums)"
   ]
  },
  {
   "cell_type": "code",
   "execution_count": 163,
   "metadata": {},
   "outputs": [
    {
     "data": {
      "text/plain": [
       "0.2922326212031722"
      ]
     },
     "execution_count": 163,
     "metadata": {},
     "output_type": "execute_result"
    }
   ],
   "source": [
    "pe = sum([a*b for a,b in zip(lista,listb)])\n",
    "pe"
   ]
  },
  {
   "cell_type": "code",
   "execution_count": 164,
   "metadata": {},
   "outputs": [
    {
     "data": {
      "text/plain": [
       "0.7976501721531001"
      ]
     },
     "execution_count": 164,
     "metadata": {},
     "output_type": "execute_result"
    }
   ],
   "source": [
    "cohen = (po-pe)/(1-pe)\n",
    "cohen"
   ]
  }
 ],
 "metadata": {
  "anaconda-cloud": {},
  "kernelspec": {
   "display_name": "Python 2",
   "language": "python",
   "name": "python2"
  },
  "language_info": {
   "codemirror_mode": {
    "name": "ipython",
    "version": 2
   },
   "file_extension": ".py",
   "mimetype": "text/x-python",
   "name": "python",
   "nbconvert_exporter": "python",
   "pygments_lexer": "ipython2",
   "version": "2.7.15"
  }
 },
 "nbformat": 4,
 "nbformat_minor": 1
}
